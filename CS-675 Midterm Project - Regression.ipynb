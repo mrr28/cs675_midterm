{
 "cells": [
  {
   "cell_type": "markdown",
   "metadata": {},
   "source": [
    "## CS 675 Midterm Project\n",
    "#### Neha F. Kazi, immy R. Najjar, Megan Resurreccion, "
   ]
  },
  {
   "cell_type": "markdown",
   "metadata": {},
   "source": [
    "**Import Packages**"
   ]
  },
  {
   "cell_type": "code",
   "execution_count": 205,
   "metadata": {},
   "outputs": [],
   "source": [
    "import pandas as pd\n",
    "import matplotlib.pyplot as plt\n",
    "import numpy as np\n",
    "import csv\n",
    "import seaborn as sns\n",
    "import graphviz\n",
    "import plotly.express as px\n",
    "from sklearn import metrics, neighbors, preprocessing, model_selection, datasets, svm, cluster, datasets, mixture, tree\n",
    "from sklearn.cluster import KMeans, MeanShift, DBSCAN, AgglomerativeClustering\n",
    "from sklearn.datasets import make_moons, make_blobs\n",
    "from sklearn.decomposition import PCA, KernelPCA\n",
    "from sklearn.ensemble import RandomForestRegressor\n",
    "from sklearn.linear_model import LinearRegression, LogisticRegression\n",
    "from sklearn.metrics import accuracy_score, classification_report, roc_curve, auc, confusion_matrix, silhouette_score, calinski_harabasz_score\n",
    "from sklearn.metrics.cluster import completeness_score, homogeneity_score\n",
    "from sklearn.metrics.pairwise import euclidean_distances,cosine_distances,manhattan_distances,cosine_similarity\n",
    "from sklearn.model_selection import train_test_split\n",
    "from sklearn.naive_bayes import GaussianNB\n",
    "from sklearn.neighbors import KNeighborsClassifier\n",
    "from sklearn.preprocessing import OneHotEncoder, LabelEncoder, StandardScaler\n",
    "from sklearn.svm import SVC, SVR\n",
    "from sklearn.tree import DecisionTreeClassifier, export_graphviz, DecisionTreeRegressor\n",
    "pd.options.display.max_rows = 50\n",
    "pd.options.display.float_format = '{:,.2f}'.format"
   ]
  },
  {
   "cell_type": "code",
   "execution_count": 206,
   "metadata": {},
   "outputs": [],
   "source": [
    "test_df = pd.read_csv('test.csv')\n",
    "train_df = pd.read_csv('train.csv')"
   ]
  },
  {
   "cell_type": "code",
   "execution_count": 207,
   "metadata": {},
   "outputs": [
    {
     "data": {
      "text/plain": [
       "(1460, 81)"
      ]
     },
     "execution_count": 207,
     "metadata": {},
     "output_type": "execute_result"
    }
   ],
   "source": [
    "train_df.shape"
   ]
  },
  {
   "cell_type": "markdown",
   "metadata": {},
   "source": [
    "**Replace string values with numerical ones**"
   ]
  },
  {
   "cell_type": "code",
   "execution_count": 208,
   "metadata": {},
   "outputs": [],
   "source": [
    "train_df['LotFrontage'].fillna('NA',inplace=True)\n",
    "train_df['LotFrontage'].fillna('Alley',inplace=True)\n",
    "train_df['MasVnrType'].fillna('NA',inplace=True)\n",
    "train_df['MasVnrArea'].fillna('NA',inplace=True)\n",
    "train_df['BsmtQual'].fillna('NA',inplace=True)\n",
    "train_df['BsmtCond'].fillna('NA',inplace=True)\n",
    "train_df['BsmtExposure'].fillna('NA',inplace=True)\n",
    "train_df['BsmtFinType1'].fillna('NA',inplace=True)\n",
    "train_df['BsmtFinType2'].fillna('NA',inplace=True)\n",
    "train_df['Electrical'].fillna('NA',inplace=True)\n",
    "train_df['GarageType'].fillna('NA',inplace=True)\n",
    "train_df['GarageYrBlt'].fillna('NA',inplace=True)\n",
    "train_df['GarageFinish'].fillna('NA',inplace=True)\n",
    "train_df['GarageQual'].fillna('NA',inplace=True)\n",
    "train_df['GarageCond'].fillna('NA',inplace=True)\n",
    "train_df['FireplaceQu'].fillna('NA',inplace=True)\n",
    "train_df['PoolQC'].fillna('NA',inplace=True)\n",
    "train_df['Fence'].fillna('NA',inplace=True)\n",
    "train_df['MiscFeature'].fillna('NA',inplace=True)\n",
    "train_df['Alley'].fillna('NA',inplace=True)"
   ]
  },
  {
   "cell_type": "code",
   "execution_count": 209,
   "metadata": {},
   "outputs": [],
   "source": [
    "pavement = {'Y': 1.0, 'P': 0.5, 'N': 0}\n",
    "train_df.PavedDrive = [pavement[item] for item in train_df.PavedDrive]"
   ]
  },
  {
   "cell_type": "code",
   "execution_count": 210,
   "metadata": {},
   "outputs": [],
   "source": [
    "function = {'Typ': 8, 'Min1': 7, 'Min2': 6, 'Mod': 5, 'Maj1': 4, 'Maj2': 3, 'Sev': 2, 'Sal': 1}\n",
    "train_df.Functional = [function[item] for item in train_df.Functional]\n"
   ]
  },
  {
   "cell_type": "code",
   "execution_count": 211,
   "metadata": {},
   "outputs": [],
   "source": [
    "util = {'AllPub': 4, 'NoSewr': 3, 'NoSeWa': 2, 'ELO': 1}\n",
    "train_df.Utilities = [util[item] for item in train_df.Utilities]\n"
   ]
  },
  {
   "cell_type": "code",
   "execution_count": 212,
   "metadata": {},
   "outputs": [],
   "source": [
    "bsmtex = {'Gd': 4, 'Av': 3, 'Mn': 2, 'No': 1, 'NA': 0}\n",
    "train_df.BsmtExposure = [bsmtex[item] for item in train_df.BsmtExposure]"
   ]
  },
  {
   "cell_type": "code",
   "execution_count": 213,
   "metadata": {},
   "outputs": [],
   "source": [
    "air = {'Y': 1, 'N': 0}\n",
    "train_df.CentralAir = [air[item] for item in train_df.CentralAir]"
   ]
  },
  {
   "cell_type": "code",
   "execution_count": 214,
   "metadata": {},
   "outputs": [],
   "source": [
    "fen = {'GdPrv': 4, 'MnPrv': 3, 'GdWo': 2, 'MnWw': 1, 'NA': 0}\n",
    "train_df.Fence = [fen[item] for item in train_df.Fence]"
   ]
  },
  {
   "cell_type": "code",
   "execution_count": 215,
   "metadata": {},
   "outputs": [],
   "source": [
    "rating = {'Ex': 5, 'Gd': 4, 'TA': 3, 'Fa': 2, 'Po': 1, 'NA': 0}\n",
    "train_df.BsmtQual = [rating[item] for item in train_df.BsmtQual]\n",
    "train_df.BsmtCond = [rating[item] for item in train_df.BsmtCond]\n",
    "train_df.KitchenQual = [rating[item] for item in train_df.KitchenQual]\n",
    "train_df.HeatingQC = [rating[item] for item in train_df.HeatingQC]\n",
    "train_df.FireplaceQu = [rating[item] for item in train_df.FireplaceQu]\n",
    "train_df.PoolQC = [rating[item] for item in train_df.PoolQC]"
   ]
  },
  {
   "cell_type": "markdown",
   "metadata": {},
   "source": [
    "**New Feature 1: Average of OverallQual and OverallCond**"
   ]
  },
  {
   "cell_type": "code",
   "execution_count": 216,
   "metadata": {},
   "outputs": [],
   "source": [
    "train_df['OverallRating'] = ((train_df['OverallQual']+train_df['OverallCond'])/2)\n",
    "train_df['OverallRating'].head()\n",
    "train_df = train_df.drop(['OverallQual','OverallCond'],axis=1)"
   ]
  },
  {
   "cell_type": "markdown",
   "metadata": {},
   "source": [
    "**New Feature 2: Total Square Feet of 1st and 2nd Floors**"
   ]
  },
  {
   "cell_type": "code",
   "execution_count": 217,
   "metadata": {},
   "outputs": [],
   "source": [
    "train_df['TotalFloorSqFt'] = train_df['1stFlrSF']+train_df['2ndFlrSF']\n",
    "train_df['TotalFloorSqFt'].head()\n",
    "train_df = train_df.drop(['1stFlrSF','2ndFlrSF'],axis=1)"
   ]
  },
  {
   "cell_type": "markdown",
   "metadata": {},
   "source": [
    "**New Feature 3: Total Outdoor Porch and Deck Square Feet**"
   ]
  },
  {
   "cell_type": "code",
   "execution_count": 218,
   "metadata": {},
   "outputs": [],
   "source": [
    "train_df['TotalPorchDeckSqFt'] = (train_df['WoodDeckSF']+train_df['OpenPorchSF']\n",
    "                                +train_df['EnclosedPorch']+train_df['3SsnPorch']\n",
    "                                +train_df['ScreenPorch'])\n",
    "\n",
    "train_df = train_df.drop(['WoodDeckSF','OpenPorchSF','EnclosedPorch','3SsnPorch','ScreenPorch'],axis=1)\n"
   ]
  },
  {
   "cell_type": "markdown",
   "metadata": {},
   "source": [
    "**New Feature 4: Garage Overall Quality**"
   ]
  },
  {
   "cell_type": "code",
   "execution_count": 219,
   "metadata": {},
   "outputs": [],
   "source": [
    "garage = {'Ex': 5, 'Gd': 4, 'TA': 3, 'Fa': 2, 'Po': 1, 'NA': 0}\n",
    "train_df.GarageQual = [garage[item] for item in train_df.GarageQual]\n",
    "train_df.GarageCond = [garage[item] for item in train_df.GarageCond]\n",
    "\n",
    "train_df['GarageOverall'] = ((train_df['GarageQual']+train_df['GarageCond'])/2)\n",
    "\n",
    "train_df = train_df.drop(['GarageQual','GarageCond'],axis=1)"
   ]
  },
  {
   "cell_type": "markdown",
   "metadata": {},
   "source": [
    "**New Feature 5: Exterior Overall Quality**"
   ]
  },
  {
   "cell_type": "code",
   "execution_count": 220,
   "metadata": {},
   "outputs": [],
   "source": [
    "exterior = {'Ex': 5, 'Gd': 4, 'TA': 3, 'Fa': 2, 'Po': 1, 'NA': 0}\n",
    "train_df.ExterQual = [exterior[item] for item in train_df.ExterQual]\n",
    "train_df.ExterCond = [exterior[item] for item in train_df.ExterCond]\n",
    "\n",
    "train_df['ExterOverall'] = ((train_df['ExterQual']+train_df['ExterCond'])/2)\n",
    "\n",
    "train_df = train_df.drop(['ExterQual','ExterCond'],axis=1)"
   ]
  },
  {
   "cell_type": "markdown",
   "metadata": {},
   "source": [
    "**Initial Features and Target Feature**"
   ]
  },
  {
   "cell_type": "code",
   "execution_count": 221,
   "metadata": {},
   "outputs": [],
   "source": [
    "train_feats = train_df.drop(['Id','SalePrice'],axis=1)\n",
    "train_feats = train_df[['MSSubClass','LotArea','Utilities',\n",
    "                       'YearBuilt','YearRemodAdd','BsmtQual','BsmtCond',\n",
    "                       'BsmtExposure','BsmtFinSF1','BsmtFinSF2','BsmtUnfSF',\n",
    "                        'TotalBsmtSF','HeatingQC','CentralAir','LowQualFinSF',\n",
    "                        'GrLivArea','BsmtFullBath','BsmtHalfBath','FullBath','HalfBath',\n",
    "                        'BedroomAbvGr','KitchenAbvGr','KitchenQual','TotRmsAbvGrd',\n",
    "                        'Functional','Fireplaces','FireplaceQu','GarageCars', 'GarageArea',\n",
    "                        'PoolArea','PoolQC','Fence','MiscVal','OverallRating','TotalFloorSqFt',\n",
    "                        'TotalPorchDeckSqFt','GarageOverall','PavedDrive','TotalPorchDeckSqFt',\n",
    "                       'ExterOverall']]\n",
    "train_target = train_df['SalePrice']"
   ]
  },
  {
   "cell_type": "markdown",
   "metadata": {},
   "source": [
    "## Initial Linear Regression Test"
   ]
  },
  {
   "cell_type": "code",
   "execution_count": 282,
   "metadata": {},
   "outputs": [],
   "source": [
    "X = train_feats[['MSSubClass','LotArea','Utilities',\n",
    "                       'YearBuilt','YearRemodAdd','BsmtQual','BsmtCond',\n",
    "                       'BsmtExposure','BsmtFinSF1','BsmtFinSF2','BsmtUnfSF',\n",
    "                        'TotalBsmtSF','HeatingQC','CentralAir','LowQualFinSF',\n",
    "                        'GrLivArea','BsmtFullBath','BsmtHalfBath','FullBath','HalfBath',\n",
    "                        'BedroomAbvGr','KitchenAbvGr','KitchenQual','TotRmsAbvGrd',\n",
    "                        'Functional','Fireplaces','FireplaceQu','GarageCars', 'GarageArea',\n",
    "                        'PoolArea','PoolQC','Fence','MiscVal','OverallRating','TotalFloorSqFt',\n",
    "                        'TotalPorchDeckSqFt','GarageOverall','PavedDrive','TotalPorchDeckSqFt',\n",
    "                       'ExterOverall']].values\n",
    "y = train_df['SalePrice'].values"
   ]
  },
  {
   "cell_type": "code",
   "execution_count": 283,
   "metadata": {},
   "outputs": [
    {
     "data": {
      "text/plain": [
       "(1460, 42)"
      ]
     },
     "execution_count": 283,
     "metadata": {},
     "output_type": "execute_result"
    }
   ],
   "source": [
    "X.shape"
   ]
  },
  {
   "cell_type": "code",
   "execution_count": 284,
   "metadata": {},
   "outputs": [],
   "source": [
    "X_train, X_test, y_train, y_test = train_test_split(X, y, test_size=0.2, random_state=0)"
   ]
  },
  {
   "cell_type": "code",
   "execution_count": 285,
   "metadata": {},
   "outputs": [
    {
     "data": {
      "text/plain": [
       "LinearRegression()"
      ]
     },
     "execution_count": 285,
     "metadata": {},
     "output_type": "execute_result"
    }
   ],
   "source": [
    "regressor = LinearRegression()  \n",
    "regressor.fit(X_train, y_train)"
   ]
  },
  {
   "cell_type": "code",
   "execution_count": 286,
   "metadata": {},
   "outputs": [],
   "source": [
    "y_pred = regressor.predict(X_test)"
   ]
  },
  {
   "cell_type": "code",
   "execution_count": 312,
   "metadata": {},
   "outputs": [
    {
     "data": {
      "text/html": [
       "<div>\n",
       "<style scoped>\n",
       "    .dataframe tbody tr th:only-of-type {\n",
       "        vertical-align: middle;\n",
       "    }\n",
       "\n",
       "    .dataframe tbody tr th {\n",
       "        vertical-align: top;\n",
       "    }\n",
       "\n",
       "    .dataframe thead th {\n",
       "        text-align: right;\n",
       "    }\n",
       "</style>\n",
       "<table border=\"1\" class=\"dataframe\">\n",
       "  <thead>\n",
       "    <tr style=\"text-align: right;\">\n",
       "      <th></th>\n",
       "      <th>Actual</th>\n",
       "      <th>Predicted</th>\n",
       "    </tr>\n",
       "  </thead>\n",
       "  <tbody>\n",
       "    <tr>\n",
       "      <th>277</th>\n",
       "      <td>219500</td>\n",
       "      <td>160,870.47</td>\n",
       "    </tr>\n",
       "    <tr>\n",
       "      <th>278</th>\n",
       "      <td>195000</td>\n",
       "      <td>217,458.73</td>\n",
       "    </tr>\n",
       "    <tr>\n",
       "      <th>279</th>\n",
       "      <td>108000</td>\n",
       "      <td>121,385.11</td>\n",
       "    </tr>\n",
       "    <tr>\n",
       "      <th>280</th>\n",
       "      <td>149900</td>\n",
       "      <td>130,945.88</td>\n",
       "    </tr>\n",
       "    <tr>\n",
       "      <th>281</th>\n",
       "      <td>315000</td>\n",
       "      <td>343,484.61</td>\n",
       "    </tr>\n",
       "    <tr>\n",
       "      <th>282</th>\n",
       "      <td>177500</td>\n",
       "      <td>163,569.99</td>\n",
       "    </tr>\n",
       "    <tr>\n",
       "      <th>283</th>\n",
       "      <td>140000</td>\n",
       "      <td>143,900.41</td>\n",
       "    </tr>\n",
       "    <tr>\n",
       "      <th>284</th>\n",
       "      <td>193879</td>\n",
       "      <td>201,994.17</td>\n",
       "    </tr>\n",
       "    <tr>\n",
       "      <th>285</th>\n",
       "      <td>137900</td>\n",
       "      <td>189,902.64</td>\n",
       "    </tr>\n",
       "    <tr>\n",
       "      <th>286</th>\n",
       "      <td>118000</td>\n",
       "      <td>123,357.69</td>\n",
       "    </tr>\n",
       "    <tr>\n",
       "      <th>287</th>\n",
       "      <td>324000</td>\n",
       "      <td>283,743.03</td>\n",
       "    </tr>\n",
       "    <tr>\n",
       "      <th>288</th>\n",
       "      <td>555000</td>\n",
       "      <td>438,014.45</td>\n",
       "    </tr>\n",
       "    <tr>\n",
       "      <th>289</th>\n",
       "      <td>136000</td>\n",
       "      <td>213,474.77</td>\n",
       "    </tr>\n",
       "    <tr>\n",
       "      <th>290</th>\n",
       "      <td>82500</td>\n",
       "      <td>71,449.92</td>\n",
       "    </tr>\n",
       "    <tr>\n",
       "      <th>291</th>\n",
       "      <td>101000</td>\n",
       "      <td>91,671.74</td>\n",
       "    </tr>\n",
       "  </tbody>\n",
       "</table>\n",
       "</div>"
      ],
      "text/plain": [
       "     Actual  Predicted\n",
       "277  219500 160,870.47\n",
       "278  195000 217,458.73\n",
       "279  108000 121,385.11\n",
       "280  149900 130,945.88\n",
       "281  315000 343,484.61\n",
       "282  177500 163,569.99\n",
       "283  140000 143,900.41\n",
       "284  193879 201,994.17\n",
       "285  137900 189,902.64\n",
       "286  118000 123,357.69\n",
       "287  324000 283,743.03\n",
       "288  555000 438,014.45\n",
       "289  136000 213,474.77\n",
       "290   82500  71,449.92\n",
       "291  101000  91,671.74"
      ]
     },
     "execution_count": 312,
     "metadata": {},
     "output_type": "execute_result"
    }
   ],
   "source": [
    "train_res = pd.DataFrame({'Actual': y_test.flatten(), 'Predicted': y_pred.flatten()})\n",
    "train_res.tail(15)"
   ]
  },
  {
   "cell_type": "code",
   "execution_count": 313,
   "metadata": {},
   "outputs": [
    {
     "data": {
      "image/png": "[encoded data removed]",
      "text/plain": [
       "<Figure size 576x576 with 1 Axes>"
      ]
     },
     "metadata": {
      "needs_background": "light"
     },
     "output_type": "display_data"
    }
   ],
   "source": [
    "train_res = train_res.tail(25)\n",
    "train_res.plot(kind='bar',figsize=(8,8))\n",
    "plt.grid(which='major', linestyle='-', linewidth='0.5', color='black')\n",
    "plt.grid(which='minor', linestyle=':', linewidth='0.5', color='black')\n",
    "plt.show()"
   ]
  },
  {
   "cell_type": "code",
   "execution_count": 314,
   "metadata": {},
   "outputs": [
    {
     "name": "stdout",
     "output_type": "stream",
     "text": [
      "Mean Absolute Error: 22434.368427105073\n",
      "R-squared Error: 0.6634509613293098\n"
     ]
    }
   ],
   "source": [
    "print('Mean Absolute Error:', metrics.mean_absolute_error(y_test, y_pred))  \n",
    "print('R-squared Error:', metrics.r2_score(y_test, y_pred))"
   ]
  },
  {
   "cell_type": "markdown",
   "metadata": {},
   "source": [
    "Mean Absolute Error is about 22,434.36. R-squared Error is about 0.6634. The model was close in predicting some of the actual values but is overall not that accurate. We will use some dimensionality reduction techniques to see if we can improve the model."
   ]
  },
  {
   "cell_type": "markdown",
   "metadata": {},
   "source": [
    "## Attempt to Improve Linear Regression Test 1\n",
    "Use variance check with features and remove features with low variance."
   ]
  },
  {
   "cell_type": "markdown",
   "metadata": {},
   "source": [
    "**Check Feature Variance**"
   ]
  },
  {
   "cell_type": "code",
   "execution_count": 330,
   "metadata": {
    "scrolled": true
   },
   "outputs": [
    {
     "data": {
      "text/plain": [
       "Id                         177,755.00\n",
       "MSSubClass                   1,789.34\n",
       "LotArea                 99,625,649.65\n",
       "Utilities                        0.00\n",
       "YearBuilt                      912.22\n",
       "YearRemodAdd                   426.23\n",
       "BsmtQual                         0.77\n",
       "BsmtCond                         0.30\n",
       "BsmtExposure                     1.14\n",
       "BsmtFinSF1                 208,025.47\n",
       "BsmtFinSF2                  26,023.91\n",
       "BsmtUnfSF                  195,246.41\n",
       "TotalBsmtSF                192,462.36\n",
       "HeatingQC                        0.92\n",
       "CentralAir                       0.06\n",
       "LowQualFinSF                 2,364.20\n",
       "GrLivArea                  276,129.63\n",
       "BsmtFullBath                     0.27\n",
       "BsmtHalfBath                     0.06\n",
       "FullBath                         0.30\n",
       "HalfBath                         0.25\n",
       "BedroomAbvGr                     0.67\n",
       "KitchenAbvGr                     0.05\n",
       "KitchenQual                      0.44\n",
       "TotRmsAbvGrd                     2.64\n",
       "Functional                       0.45\n",
       "Fireplaces                       0.42\n",
       "FireplaceQu                      3.28\n",
       "GarageCars                       0.56\n",
       "GarageArea                  45,712.51\n",
       "PavedDrive                       0.06\n",
       "PoolArea                     1,614.22\n",
       "PoolQC                           0.07\n",
       "Fence                            1.45\n",
       "MiscVal                    246,138.06\n",
       "MoSold                           7.31\n",
       "YrSold                           1.76\n",
       "SalePrice            6,311,111,264.30\n",
       "OverallRating                    0.72\n",
       "TotalFloorSqFt             271,611.42\n",
       "TotalPorchDeckSqFt          24,541.13\n",
       "GarageOverall                    0.51\n",
       "ExterOverall                     0.11\n",
       "dtype: float64"
      ]
     },
     "execution_count": 330,
     "metadata": {},
     "output_type": "execute_result"
    }
   ],
   "source": [
    "train_df.var()"
   ]
  },
  {
   "cell_type": "markdown",
   "metadata": {},
   "source": [
    "Select features that all have a variance greater than 0.5."
   ]
  },
  {
   "cell_type": "code",
   "execution_count": 331,
   "metadata": {},
   "outputs": [],
   "source": [
    "train_feats1 = train_df[['MSSubClass','LotArea',\n",
    "                       'YearBuilt','YearRemodAdd','BsmtQual',\n",
    "                       'BsmtExposure','BsmtFinSF1','BsmtFinSF2','BsmtUnfSF',\n",
    "                        'TotalBsmtSF','HeatingQC','LowQualFinSF',\n",
    "                        'GrLivArea',\n",
    "                        'BedroomAbvGr','TotRmsAbvGrd',\n",
    "                        'FireplaceQu','GarageCars', 'GarageArea',\n",
    "                        'PoolArea','Fence','MiscVal','OverallRating','TotalFloorSqFt',\n",
    "                        'TotalPorchDeckSqFt']]\n"
   ]
  },
  {
   "cell_type": "code",
   "execution_count": 332,
   "metadata": {},
   "outputs": [
    {
     "data": {
      "text/plain": [
       "(1460, 24)"
      ]
     },
     "execution_count": 332,
     "metadata": {},
     "output_type": "execute_result"
    }
   ],
   "source": [
    "train_feats1.shape"
   ]
  },
  {
   "cell_type": "code",
   "execution_count": 333,
   "metadata": {},
   "outputs": [],
   "source": [
    "A = train_feats1[['MSSubClass','LotArea',\n",
    "                       'YearBuilt','YearRemodAdd','BsmtQual',\n",
    "                       'BsmtExposure','BsmtFinSF1','BsmtFinSF2','BsmtUnfSF',\n",
    "                        'TotalBsmtSF','HeatingQC','LowQualFinSF',\n",
    "                        'GrLivArea',\n",
    "                        'BedroomAbvGr','TotRmsAbvGrd',\n",
    "                        'FireplaceQu','GarageCars', 'GarageArea',\n",
    "                        'PoolArea','Fence','MiscVal','OverallRating','TotalFloorSqFt',\n",
    "                        'TotalPorchDeckSqFt']].values\n",
    "b = train_df['SalePrice'].values"
   ]
  },
  {
   "cell_type": "code",
   "execution_count": 334,
   "metadata": {},
   "outputs": [
    {
     "data": {
      "text/plain": [
       "(1460, 24)"
      ]
     },
     "execution_count": 334,
     "metadata": {},
     "output_type": "execute_result"
    }
   ],
   "source": [
    "A.shape"
   ]
  },
  {
   "cell_type": "code",
   "execution_count": 335,
   "metadata": {},
   "outputs": [],
   "source": [
    "A_train, A_test, b_train, b_test = train_test_split(A, b, test_size=0.2, random_state=0)\n"
   ]
  },
  {
   "cell_type": "code",
   "execution_count": 336,
   "metadata": {},
   "outputs": [
    {
     "data": {
      "text/plain": [
       "LinearRegression()"
      ]
     },
     "execution_count": 336,
     "metadata": {},
     "output_type": "execute_result"
    }
   ],
   "source": [
    "regressor = LinearRegression()  \n",
    "regressor.fit(A_train, b_train)"
   ]
  },
  {
   "cell_type": "code",
   "execution_count": 337,
   "metadata": {},
   "outputs": [],
   "source": [
    "b_pred = regressor.predict(A_test)"
   ]
  },
  {
   "cell_type": "code",
   "execution_count": 338,
   "metadata": {},
   "outputs": [
    {
     "data": {
      "text/html": [
       "<div>\n",
       "<style scoped>\n",
       "    .dataframe tbody tr th:only-of-type {\n",
       "        vertical-align: middle;\n",
       "    }\n",
       "\n",
       "    .dataframe tbody tr th {\n",
       "        vertical-align: top;\n",
       "    }\n",
       "\n",
       "    .dataframe thead th {\n",
       "        text-align: right;\n",
       "    }\n",
       "</style>\n",
       "<table border=\"1\" class=\"dataframe\">\n",
       "  <thead>\n",
       "    <tr style=\"text-align: right;\">\n",
       "      <th></th>\n",
       "      <th>Actual</th>\n",
       "      <th>Predicted</th>\n",
       "    </tr>\n",
       "  </thead>\n",
       "  <tbody>\n",
       "    <tr>\n",
       "      <th>277</th>\n",
       "      <td>219500</td>\n",
       "      <td>169,104.37</td>\n",
       "    </tr>\n",
       "    <tr>\n",
       "      <th>278</th>\n",
       "      <td>195000</td>\n",
       "      <td>216,777.73</td>\n",
       "    </tr>\n",
       "    <tr>\n",
       "      <th>279</th>\n",
       "      <td>108000</td>\n",
       "      <td>117,826.76</td>\n",
       "    </tr>\n",
       "    <tr>\n",
       "      <th>280</th>\n",
       "      <td>149900</td>\n",
       "      <td>136,450.60</td>\n",
       "    </tr>\n",
       "    <tr>\n",
       "      <th>281</th>\n",
       "      <td>315000</td>\n",
       "      <td>330,669.68</td>\n",
       "    </tr>\n",
       "    <tr>\n",
       "      <th>282</th>\n",
       "      <td>177500</td>\n",
       "      <td>157,145.02</td>\n",
       "    </tr>\n",
       "    <tr>\n",
       "      <th>283</th>\n",
       "      <td>140000</td>\n",
       "      <td>147,048.18</td>\n",
       "    </tr>\n",
       "    <tr>\n",
       "      <th>284</th>\n",
       "      <td>193879</td>\n",
       "      <td>218,967.50</td>\n",
       "    </tr>\n",
       "    <tr>\n",
       "      <th>285</th>\n",
       "      <td>137900</td>\n",
       "      <td>178,018.55</td>\n",
       "    </tr>\n",
       "    <tr>\n",
       "      <th>286</th>\n",
       "      <td>118000</td>\n",
       "      <td>128,497.82</td>\n",
       "    </tr>\n",
       "    <tr>\n",
       "      <th>287</th>\n",
       "      <td>324000</td>\n",
       "      <td>281,379.57</td>\n",
       "    </tr>\n",
       "    <tr>\n",
       "      <th>288</th>\n",
       "      <td>555000</td>\n",
       "      <td>415,977.87</td>\n",
       "    </tr>\n",
       "    <tr>\n",
       "      <th>289</th>\n",
       "      <td>136000</td>\n",
       "      <td>193,043.77</td>\n",
       "    </tr>\n",
       "    <tr>\n",
       "      <th>290</th>\n",
       "      <td>82500</td>\n",
       "      <td>72,990.07</td>\n",
       "    </tr>\n",
       "    <tr>\n",
       "      <th>291</th>\n",
       "      <td>101000</td>\n",
       "      <td>90,059.98</td>\n",
       "    </tr>\n",
       "  </tbody>\n",
       "</table>\n",
       "</div>"
      ],
      "text/plain": [
       "     Actual  Predicted\n",
       "277  219500 169,104.37\n",
       "278  195000 216,777.73\n",
       "279  108000 117,826.76\n",
       "280  149900 136,450.60\n",
       "281  315000 330,669.68\n",
       "282  177500 157,145.02\n",
       "283  140000 147,048.18\n",
       "284  193879 218,967.50\n",
       "285  137900 178,018.55\n",
       "286  118000 128,497.82\n",
       "287  324000 281,379.57\n",
       "288  555000 415,977.87\n",
       "289  136000 193,043.77\n",
       "290   82500  72,990.07\n",
       "291  101000  90,059.98"
      ]
     },
     "execution_count": 338,
     "metadata": {},
     "output_type": "execute_result"
    }
   ],
   "source": [
    "train_res1 = pd.DataFrame({'Actual': b_test.flatten(), 'Predicted': b_pred.flatten()})\n",
    "train_res1.tail(15)"
   ]
  },
  {
   "cell_type": "code",
   "execution_count": 339,
   "metadata": {},
   "outputs": [
    {
     "data": {
      "image/png": "[encoded data removed]",
      "text/plain": [
       "<Figure size 576x576 with 1 Axes>"
      ]
     },
     "metadata": {
      "needs_background": "light"
     },
     "output_type": "display_data"
    }
   ],
   "source": [
    "train_res1 = train_res1.tail(15)\n",
    "train_res1.plot(kind='bar',figsize=(8,8))\n",
    "plt.grid(which='major', linestyle='-', linewidth='0.5', color='black')\n",
    "plt.grid(which='minor', linestyle=':', linewidth='0.5', color='black')\n",
    "plt.show()"
   ]
  },
  {
   "cell_type": "code",
   "execution_count": 340,
   "metadata": {},
   "outputs": [
    {
     "name": "stdout",
     "output_type": "stream",
     "text": [
      "Mean Absolute Error: 23314.538395248986\n",
      "R-squared Error: 0.6519945303565691\n"
     ]
    }
   ],
   "source": [
    "print('Mean Absolute Error:', metrics.mean_absolute_error(b_test, b_pred))  \n",
    "print('R-squared Error:', metrics.r2_score(b_test, b_pred))"
   ]
  },
  {
   "cell_type": "markdown",
   "metadata": {},
   "source": [
    "Mean Absolute Error is about 23,314.53. R-squared Error is about 0.6519. Compared to the inital model, this model is less accurate, albeit by very little. We will attempt to improve the model more."
   ]
  },
  {
   "cell_type": "markdown",
   "metadata": {},
   "source": [
    "## Attempt to Improve Linear Regression Test 2"
   ]
  },
  {
   "cell_type": "markdown",
   "metadata": {},
   "source": [
    "Select features that all have a variance greater than 1.0 as opposed to just 0.5. We also remove some features we feel may have less importance than others."
   ]
  },
  {
   "cell_type": "code",
   "execution_count": 413,
   "metadata": {},
   "outputs": [],
   "source": [
    "train_feats2 = train_df[['MSSubClass','LotArea',\n",
    "                       'YearRemodAdd',\n",
    "                       'BsmtExposure',\n",
    "                        'TotalBsmtSF','LowQualFinSF',\n",
    "                        'GrLivArea',\n",
    "                        'TotRmsAbvGrd',\n",
    "                        'FireplaceQu', 'GarageArea',\n",
    "                        'PoolArea','Fence','MiscVal','TotalFloorSqFt',\n",
    "                        'TotalPorchDeckSqFt']]\n"
   ]
  },
  {
   "cell_type": "markdown",
   "metadata": {},
   "source": [
    "Standardize Features with StandardScaler"
   ]
  },
  {
   "cell_type": "code",
   "execution_count": 414,
   "metadata": {},
   "outputs": [
    {
     "data": {
      "text/html": [
       "<div>\n",
       "<style scoped>\n",
       "    .dataframe tbody tr th:only-of-type {\n",
       "        vertical-align: middle;\n",
       "    }\n",
       "\n",
       "    .dataframe tbody tr th {\n",
       "        vertical-align: top;\n",
       "    }\n",
       "\n",
       "    .dataframe thead th {\n",
       "        text-align: right;\n",
       "    }\n",
       "</style>\n",
       "<table border=\"1\" class=\"dataframe\">\n",
       "  <thead>\n",
       "    <tr style=\"text-align: right;\">\n",
       "      <th></th>\n",
       "      <th>MSSubClass</th>\n",
       "      <th>LotArea</th>\n",
       "      <th>YearRemodAdd</th>\n",
       "      <th>BsmtExposure</th>\n",
       "      <th>TotalBsmtSF</th>\n",
       "      <th>LowQualFinSF</th>\n",
       "      <th>GrLivArea</th>\n",
       "      <th>TotRmsAbvGrd</th>\n",
       "      <th>FireplaceQu</th>\n",
       "      <th>GarageArea</th>\n",
       "      <th>PoolArea</th>\n",
       "      <th>Fence</th>\n",
       "      <th>MiscVal</th>\n",
       "      <th>TotalFloorSqFt</th>\n",
       "      <th>TotalPorchDeckSqFt</th>\n",
       "    </tr>\n",
       "  </thead>\n",
       "  <tbody>\n",
       "    <tr>\n",
       "      <th>0</th>\n",
       "      <td>0.07</td>\n",
       "      <td>-0.21</td>\n",
       "      <td>0.88</td>\n",
       "      <td>-0.59</td>\n",
       "      <td>-0.46</td>\n",
       "      <td>-0.12</td>\n",
       "      <td>0.37</td>\n",
       "      <td>0.91</td>\n",
       "      <td>-1.01</td>\n",
       "      <td>0.35</td>\n",
       "      <td>-0.07</td>\n",
       "      <td>-0.47</td>\n",
       "      <td>-0.09</td>\n",
       "      <td>0.38</td>\n",
       "      <td>-0.77</td>\n",
       "    </tr>\n",
       "    <tr>\n",
       "      <th>1</th>\n",
       "      <td>-0.87</td>\n",
       "      <td>-0.09</td>\n",
       "      <td>-0.43</td>\n",
       "      <td>2.22</td>\n",
       "      <td>0.47</td>\n",
       "      <td>-0.12</td>\n",
       "      <td>-0.48</td>\n",
       "      <td>-0.32</td>\n",
       "      <td>0.65</td>\n",
       "      <td>-0.06</td>\n",
       "      <td>-0.07</td>\n",
       "      <td>-0.47</td>\n",
       "      <td>-0.09</td>\n",
       "      <td>-0.48</td>\n",
       "      <td>0.75</td>\n",
       "    </tr>\n",
       "    <tr>\n",
       "      <th>2</th>\n",
       "      <td>0.07</td>\n",
       "      <td>0.07</td>\n",
       "      <td>0.83</td>\n",
       "      <td>0.35</td>\n",
       "      <td>-0.31</td>\n",
       "      <td>-0.12</td>\n",
       "      <td>0.52</td>\n",
       "      <td>-0.32</td>\n",
       "      <td>0.65</td>\n",
       "      <td>0.63</td>\n",
       "      <td>-0.07</td>\n",
       "      <td>-0.47</td>\n",
       "      <td>-0.09</td>\n",
       "      <td>0.53</td>\n",
       "      <td>-0.89</td>\n",
       "    </tr>\n",
       "    <tr>\n",
       "      <th>3</th>\n",
       "      <td>0.31</td>\n",
       "      <td>-0.10</td>\n",
       "      <td>-0.72</td>\n",
       "      <td>-0.59</td>\n",
       "      <td>-0.69</td>\n",
       "      <td>-0.12</td>\n",
       "      <td>0.38</td>\n",
       "      <td>0.30</td>\n",
       "      <td>1.20</td>\n",
       "      <td>0.79</td>\n",
       "      <td>-0.07</td>\n",
       "      <td>-0.47</td>\n",
       "      <td>-0.09</td>\n",
       "      <td>0.40</td>\n",
       "      <td>0.80</td>\n",
       "    </tr>\n",
       "    <tr>\n",
       "      <th>4</th>\n",
       "      <td>0.07</td>\n",
       "      <td>0.38</td>\n",
       "      <td>0.73</td>\n",
       "      <td>1.28</td>\n",
       "      <td>0.20</td>\n",
       "      <td>-0.12</td>\n",
       "      <td>1.30</td>\n",
       "      <td>1.53</td>\n",
       "      <td>0.65</td>\n",
       "      <td>1.70</td>\n",
       "      <td>-0.07</td>\n",
       "      <td>-0.47</td>\n",
       "      <td>-0.09</td>\n",
       "      <td>1.32</td>\n",
       "      <td>0.60</td>\n",
       "    </tr>\n",
       "  </tbody>\n",
       "</table>\n",
       "</div>"
      ],
      "text/plain": [
       "   MSSubClass  LotArea  YearRemodAdd  BsmtExposure  TotalBsmtSF  LowQualFinSF  \\\n",
       "0        0.07    -0.21          0.88         -0.59        -0.46         -0.12   \n",
       "1       -0.87    -0.09         -0.43          2.22         0.47         -0.12   \n",
       "2        0.07     0.07          0.83          0.35        -0.31         -0.12   \n",
       "3        0.31    -0.10         -0.72         -0.59        -0.69         -0.12   \n",
       "4        0.07     0.38          0.73          1.28         0.20         -0.12   \n",
       "\n",
       "   GrLivArea  TotRmsAbvGrd  FireplaceQu  GarageArea  PoolArea  Fence  MiscVal  \\\n",
       "0       0.37          0.91        -1.01        0.35     -0.07  -0.47    -0.09   \n",
       "1      -0.48         -0.32         0.65       -0.06     -0.07  -0.47    -0.09   \n",
       "2       0.52         -0.32         0.65        0.63     -0.07  -0.47    -0.09   \n",
       "3       0.38          0.30         1.20        0.79     -0.07  -0.47    -0.09   \n",
       "4       1.30          1.53         0.65        1.70     -0.07  -0.47    -0.09   \n",
       "\n",
       "   TotalFloorSqFt  TotalPorchDeckSqFt  \n",
       "0            0.38               -0.77  \n",
       "1           -0.48                0.75  \n",
       "2            0.53               -0.89  \n",
       "3            0.40                0.80  \n",
       "4            1.32                0.60  "
      ]
     },
     "execution_count": 414,
     "metadata": {},
     "output_type": "execute_result"
    }
   ],
   "source": [
    "scaler = StandardScaler()\n",
    "scaler.fit(train_feats2)\n",
    "x_scale = scaler.transform(train_feats2)\n",
    "data_scale = pd.DataFrame(x_scale, columns=train_feats2.columns)\n",
    "data_scale.head(5)"
   ]
  },
  {
   "cell_type": "markdown",
   "metadata": {},
   "source": [
    "Implement PCA as an Additional Dimensionality Reduction Technique"
   ]
  },
  {
   "cell_type": "code",
   "execution_count": 415,
   "metadata": {},
   "outputs": [
    {
     "data": {
      "text/html": [
       "<div>\n",
       "<style scoped>\n",
       "    .dataframe tbody tr th:only-of-type {\n",
       "        vertical-align: middle;\n",
       "    }\n",
       "\n",
       "    .dataframe tbody tr th {\n",
       "        vertical-align: top;\n",
       "    }\n",
       "\n",
       "    .dataframe thead th {\n",
       "        text-align: right;\n",
       "    }\n",
       "</style>\n",
       "<table border=\"1\" class=\"dataframe\">\n",
       "  <thead>\n",
       "    <tr style=\"text-align: right;\">\n",
       "      <th></th>\n",
       "      <th>0</th>\n",
       "      <th>1</th>\n",
       "      <th>2</th>\n",
       "      <th>3</th>\n",
       "      <th>4</th>\n",
       "      <th>5</th>\n",
       "      <th>6</th>\n",
       "      <th>7</th>\n",
       "      <th>8</th>\n",
       "      <th>9</th>\n",
       "      <th>10</th>\n",
       "      <th>11</th>\n",
       "      <th>12</th>\n",
       "      <th>13</th>\n",
       "      <th>14</th>\n",
       "    </tr>\n",
       "  </thead>\n",
       "  <tbody>\n",
       "    <tr>\n",
       "      <th>0</th>\n",
       "      <td>0.22</td>\n",
       "      <td>0.63</td>\n",
       "      <td>-1.05</td>\n",
       "      <td>-0.39</td>\n",
       "      <td>0.07</td>\n",
       "      <td>-0.47</td>\n",
       "      <td>0.51</td>\n",
       "      <td>0.81</td>\n",
       "      <td>0.86</td>\n",
       "      <td>0.85</td>\n",
       "      <td>0.03</td>\n",
       "      <td>-0.13</td>\n",
       "      <td>-0.34</td>\n",
       "      <td>-0.21</td>\n",
       "      <td>0.00</td>\n",
       "    </tr>\n",
       "    <tr>\n",
       "      <th>1</th>\n",
       "      <td>0.26</td>\n",
       "      <td>-1.84</td>\n",
       "      <td>0.56</td>\n",
       "      <td>0.44</td>\n",
       "      <td>-0.10</td>\n",
       "      <td>0.80</td>\n",
       "      <td>-0.09</td>\n",
       "      <td>-0.59</td>\n",
       "      <td>-0.68</td>\n",
       "      <td>-0.78</td>\n",
       "      <td>-0.77</td>\n",
       "      <td>-0.64</td>\n",
       "      <td>-0.91</td>\n",
       "      <td>-0.17</td>\n",
       "      <td>-0.00</td>\n",
       "    </tr>\n",
       "    <tr>\n",
       "      <th>2</th>\n",
       "      <td>0.68</td>\n",
       "      <td>-0.37</td>\n",
       "      <td>-0.89</td>\n",
       "      <td>-0.04</td>\n",
       "      <td>0.05</td>\n",
       "      <td>-0.10</td>\n",
       "      <td>0.18</td>\n",
       "      <td>0.46</td>\n",
       "      <td>0.36</td>\n",
       "      <td>-0.52</td>\n",
       "      <td>0.78</td>\n",
       "      <td>0.13</td>\n",
       "      <td>-0.48</td>\n",
       "      <td>0.72</td>\n",
       "      <td>0.00</td>\n",
       "    </tr>\n",
       "    <tr>\n",
       "      <th>3</th>\n",
       "      <td>0.79</td>\n",
       "      <td>0.65</td>\n",
       "      <td>-0.36</td>\n",
       "      <td>-0.41</td>\n",
       "      <td>-0.07</td>\n",
       "      <td>-0.12</td>\n",
       "      <td>-0.79</td>\n",
       "      <td>-0.37</td>\n",
       "      <td>-1.12</td>\n",
       "      <td>-0.25</td>\n",
       "      <td>0.11</td>\n",
       "      <td>1.04</td>\n",
       "      <td>-0.53</td>\n",
       "      <td>0.02</td>\n",
       "      <td>0.00</td>\n",
       "    </tr>\n",
       "    <tr>\n",
       "      <th>4</th>\n",
       "      <td>3.12</td>\n",
       "      <td>-0.26</td>\n",
       "      <td>-0.67</td>\n",
       "      <td>0.17</td>\n",
       "      <td>0.08</td>\n",
       "      <td>0.09</td>\n",
       "      <td>-0.05</td>\n",
       "      <td>-0.12</td>\n",
       "      <td>0.48</td>\n",
       "      <td>0.05</td>\n",
       "      <td>-0.30</td>\n",
       "      <td>0.34</td>\n",
       "      <td>-1.12</td>\n",
       "      <td>-0.18</td>\n",
       "      <td>0.00</td>\n",
       "    </tr>\n",
       "  </tbody>\n",
       "</table>\n",
       "</div>"
      ],
      "text/plain": [
       "    0     1     2     3     4     5     6     7     8     9     10    11  \\\n",
       "0 0.22  0.63 -1.05 -0.39  0.07 -0.47  0.51  0.81  0.86  0.85  0.03 -0.13   \n",
       "1 0.26 -1.84  0.56  0.44 -0.10  0.80 -0.09 -0.59 -0.68 -0.78 -0.77 -0.64   \n",
       "2 0.68 -0.37 -0.89 -0.04  0.05 -0.10  0.18  0.46  0.36 -0.52  0.78  0.13   \n",
       "3 0.79  0.65 -0.36 -0.41 -0.07 -0.12 -0.79 -0.37 -1.12 -0.25  0.11  1.04   \n",
       "4 3.12 -0.26 -0.67  0.17  0.08  0.09 -0.05 -0.12  0.48  0.05 -0.30  0.34   \n",
       "\n",
       "     12    13    14  \n",
       "0 -0.34 -0.21  0.00  \n",
       "1 -0.91 -0.17 -0.00  \n",
       "2 -0.48  0.72  0.00  \n",
       "3 -0.53  0.02  0.00  \n",
       "4 -1.12 -0.18  0.00  "
      ]
     },
     "execution_count": 415,
     "metadata": {},
     "output_type": "execute_result"
    }
   ],
   "source": [
    "pca = PCA()\n",
    "x_pca = pca.fit_transform(data_scale)\n",
    "x_pca = pd.DataFrame(x_pca)\n",
    "x_pca.head()"
   ]
  },
  {
   "cell_type": "code",
   "execution_count": 416,
   "metadata": {},
   "outputs": [
    {
     "data": {
      "text/plain": [
       "array([2.82089975e-01, 1.01853043e-01, 8.66345537e-02, 7.09505306e-02,\n",
       "       6.69158955e-02, 6.49601188e-02, 5.96237673e-02, 5.60029910e-02,\n",
       "       4.84890364e-02, 4.51343165e-02, 4.15048929e-02, 3.55921349e-02,\n",
       "       2.78544589e-02, 1.23942860e-02, 7.93714602e-33])"
      ]
     },
     "execution_count": 416,
     "metadata": {},
     "output_type": "execute_result"
    }
   ],
   "source": [
    "explained_variance = pca.explained_variance_ratio_\n",
    "explained_variance"
   ]
  },
  {
   "cell_type": "code",
   "execution_count": 417,
   "metadata": {},
   "outputs": [
    {
     "data": {
      "text/plain": [
       "array([0.28208997, 0.38394302, 0.47057757, 0.5415281 , 0.608444  ,\n",
       "       0.67340412, 0.73302788, 0.78903087, 0.83751991, 0.88265423,\n",
       "       0.92415912, 0.95975126, 0.98760571, 1.        , 1.        ])"
      ]
     },
     "execution_count": 417,
     "metadata": {},
     "output_type": "execute_result"
    }
   ],
   "source": [
    "np.cumsum(pca.explained_variance_ratio_)"
   ]
  },
  {
   "cell_type": "code",
   "execution_count": 419,
   "metadata": {
    "scrolled": true
   },
   "outputs": [
    {
     "data": {
      "image/png": "[encoded data removed]",
      "text/plain": [
       "<Figure size 432x288 with 1 Axes>"
      ]
     },
     "metadata": {
      "needs_background": "light"
     },
     "output_type": "display_data"
    }
   ],
   "source": [
    "plt.plot(np.arange(15), np.cumsum(pca.explained_variance_ratio_))\n",
    "plt.xlabel('number of components')\n",
    "plt.ylabel('cumulative explained variance');"
   ]
  },
  {
   "cell_type": "code",
   "execution_count": 420,
   "metadata": {},
   "outputs": [],
   "source": [
    "train_feats2 = train_df[['MSSubClass','LotArea',\n",
    "                       'YearRemodAdd',\n",
    "                       'BsmtExposure',\n",
    "                        'TotalBsmtSF','LowQualFinSF',\n",
    "                        'GrLivArea',\n",
    "                        'TotRmsAbvGrd',\n",
    "                        'FireplaceQu', 'GarageArea']]"
   ]
  },
  {
   "cell_type": "code",
   "execution_count": 422,
   "metadata": {},
   "outputs": [],
   "source": [
    "C = train_feats2[['MSSubClass','LotArea',\n",
    "                       'YearRemodAdd',\n",
    "                       'BsmtExposure',\n",
    "                        'TotalBsmtSF','LowQualFinSF',\n",
    "                        'GrLivArea',\n",
    "                        'TotRmsAbvGrd',\n",
    "                        'FireplaceQu', 'GarageArea']].values\n",
    "d = train_df['SalePrice'].values"
   ]
  },
  {
   "cell_type": "code",
   "execution_count": 423,
   "metadata": {},
   "outputs": [],
   "source": [
    "C_train, C_test, d_train, d_test = train_test_split(C, d, test_size=0.2, random_state=0)"
   ]
  },
  {
   "cell_type": "code",
   "execution_count": 424,
   "metadata": {},
   "outputs": [
    {
     "data": {
      "text/plain": [
       "LinearRegression()"
      ]
     },
     "execution_count": 424,
     "metadata": {},
     "output_type": "execute_result"
    }
   ],
   "source": [
    "regressor = LinearRegression()  \n",
    "regressor.fit(C_train, d_train)"
   ]
  },
  {
   "cell_type": "code",
   "execution_count": 425,
   "metadata": {},
   "outputs": [],
   "source": [
    "d_pred = regressor.predict(C_test)"
   ]
  },
  {
   "cell_type": "code",
   "execution_count": 426,
   "metadata": {},
   "outputs": [
    {
     "data": {
      "text/html": [
       "<div>\n",
       "<style scoped>\n",
       "    .dataframe tbody tr th:only-of-type {\n",
       "        vertical-align: middle;\n",
       "    }\n",
       "\n",
       "    .dataframe tbody tr th {\n",
       "        vertical-align: top;\n",
       "    }\n",
       "\n",
       "    .dataframe thead th {\n",
       "        text-align: right;\n",
       "    }\n",
       "</style>\n",
       "<table border=\"1\" class=\"dataframe\">\n",
       "  <thead>\n",
       "    <tr style=\"text-align: right;\">\n",
       "      <th></th>\n",
       "      <th>Actual</th>\n",
       "      <th>Predicted</th>\n",
       "    </tr>\n",
       "  </thead>\n",
       "  <tbody>\n",
       "    <tr>\n",
       "      <th>0</th>\n",
       "      <td>200624</td>\n",
       "      <td>285,218.43</td>\n",
       "    </tr>\n",
       "    <tr>\n",
       "      <th>1</th>\n",
       "      <td>133000</td>\n",
       "      <td>135,027.64</td>\n",
       "    </tr>\n",
       "    <tr>\n",
       "      <th>2</th>\n",
       "      <td>110000</td>\n",
       "      <td>112,729.02</td>\n",
       "    </tr>\n",
       "    <tr>\n",
       "      <th>3</th>\n",
       "      <td>192000</td>\n",
       "      <td>213,501.92</td>\n",
       "    </tr>\n",
       "    <tr>\n",
       "      <th>4</th>\n",
       "      <td>88000</td>\n",
       "      <td>78,254.29</td>\n",
       "    </tr>\n",
       "    <tr>\n",
       "      <th>5</th>\n",
       "      <td>85000</td>\n",
       "      <td>141,072.07</td>\n",
       "    </tr>\n",
       "    <tr>\n",
       "      <th>6</th>\n",
       "      <td>282922</td>\n",
       "      <td>248,969.79</td>\n",
       "    </tr>\n",
       "    <tr>\n",
       "      <th>7</th>\n",
       "      <td>141000</td>\n",
       "      <td>144,450.80</td>\n",
       "    </tr>\n",
       "    <tr>\n",
       "      <th>8</th>\n",
       "      <td>745000</td>\n",
       "      <td>481,603.85</td>\n",
       "    </tr>\n",
       "    <tr>\n",
       "      <th>9</th>\n",
       "      <td>148800</td>\n",
       "      <td>125,124.48</td>\n",
       "    </tr>\n",
       "    <tr>\n",
       "      <th>10</th>\n",
       "      <td>208900</td>\n",
       "      <td>197,571.45</td>\n",
       "    </tr>\n",
       "    <tr>\n",
       "      <th>11</th>\n",
       "      <td>136905</td>\n",
       "      <td>191,714.22</td>\n",
       "    </tr>\n",
       "    <tr>\n",
       "      <th>12</th>\n",
       "      <td>225000</td>\n",
       "      <td>219,470.21</td>\n",
       "    </tr>\n",
       "    <tr>\n",
       "      <th>13</th>\n",
       "      <td>123000</td>\n",
       "      <td>109,365.32</td>\n",
       "    </tr>\n",
       "    <tr>\n",
       "      <th>14</th>\n",
       "      <td>119200</td>\n",
       "      <td>120,404.69</td>\n",
       "    </tr>\n",
       "  </tbody>\n",
       "</table>\n",
       "</div>"
      ],
      "text/plain": [
       "    Actual  Predicted\n",
       "0   200624 285,218.43\n",
       "1   133000 135,027.64\n",
       "2   110000 112,729.02\n",
       "3   192000 213,501.92\n",
       "4    88000  78,254.29\n",
       "5    85000 141,072.07\n",
       "6   282922 248,969.79\n",
       "7   141000 144,450.80\n",
       "8   745000 481,603.85\n",
       "9   148800 125,124.48\n",
       "10  208900 197,571.45\n",
       "11  136905 191,714.22\n",
       "12  225000 219,470.21\n",
       "13  123000 109,365.32\n",
       "14  119200 120,404.69"
      ]
     },
     "execution_count": 426,
     "metadata": {},
     "output_type": "execute_result"
    }
   ],
   "source": [
    "train_res2 = pd.DataFrame({'Actual': d_test.flatten(), 'Predicted': d_pred.flatten()})\n",
    "train_res2.head(15)"
   ]
  },
  {
   "cell_type": "code",
   "execution_count": 427,
   "metadata": {},
   "outputs": [
    {
     "data": {
      "image/png": "[encoded data removed]",
      "text/plain": [
       "<Figure size 576x576 with 1 Axes>"
      ]
     },
     "metadata": {
      "needs_background": "light"
     },
     "output_type": "display_data"
    }
   ],
   "source": [
    "train_res2 = train_res2.head(15)\n",
    "train_res2.plot(kind='bar',figsize=(8,8))\n",
    "plt.grid(which='major', linestyle='-', linewidth='0.5', color='black')\n",
    "plt.grid(which='minor', linestyle=':', linewidth='0.5', color='black')\n",
    "plt.show()"
   ]
  },
  {
   "cell_type": "code",
   "execution_count": 428,
   "metadata": {},
   "outputs": [
    {
     "name": "stdout",
     "output_type": "stream",
     "text": [
      "Mean Absolute Error: 27868.338811908703\n",
      "R-squared Error: 0.5971859351408314\n"
     ]
    }
   ],
   "source": [
    "print('Mean Absolute Error:', metrics.mean_absolute_error(d_test, d_pred))  \n",
    "print('R-squared Error:', metrics.r2_score(d_test, d_pred))"
   ]
  },
  {
   "cell_type": "markdown",
   "metadata": {},
   "source": [
    "After another attempt, we unfortunately find that the model is worse than originally used, particularly with an increased Mean Absolute Error value and decreased R-squared error."
   ]
  },
  {
   "cell_type": "markdown",
   "metadata": {},
   "source": [
    "## Attempt to Improve Linear Regression Test 3"
   ]
  },
  {
   "cell_type": "code",
   "execution_count": 407,
   "metadata": {},
   "outputs": [],
   "source": [
    "E = train_df[['MSSubClass','LotArea','Utilities','OverallRating',\n",
    "                       'YearBuilt','ExterOverall','BsmtQual','BsmtCond',\n",
    "                       'BsmtExposure','TotalBsmtSF','HeatingQC','CentralAir',\n",
    "                        'TotalFloorSqFt','GrLivArea','KitchenQual','TotRmsAbvGrd',\n",
    "                        'Functional','Fireplaces','FireplaceQu','GarageCars',\n",
    "                        'GarageOverall','PavedDrive','TotalPorchDeckSqFt']].values\n",
    "f = train_df['SalePrice'].values"
   ]
  },
  {
   "cell_type": "code",
   "execution_count": 408,
   "metadata": {},
   "outputs": [],
   "source": [
    "E_train, E_test, f_train, f_test = train_test_split(E, f, test_size=0.2, random_state=0)"
   ]
  },
  {
   "cell_type": "code",
   "execution_count": 409,
   "metadata": {},
   "outputs": [
    {
     "data": {
      "text/plain": [
       "LinearRegression()"
      ]
     },
     "execution_count": 409,
     "metadata": {},
     "output_type": "execute_result"
    }
   ],
   "source": [
    "regressor.fit(E_train, f_train)\n"
   ]
  },
  {
   "cell_type": "code",
   "execution_count": 410,
   "metadata": {},
   "outputs": [
    {
     "data": {
      "text/html": [
       "<div>\n",
       "<style scoped>\n",
       "    .dataframe tbody tr th:only-of-type {\n",
       "        vertical-align: middle;\n",
       "    }\n",
       "\n",
       "    .dataframe tbody tr th {\n",
       "        vertical-align: top;\n",
       "    }\n",
       "\n",
       "    .dataframe thead th {\n",
       "        text-align: right;\n",
       "    }\n",
       "</style>\n",
       "<table border=\"1\" class=\"dataframe\">\n",
       "  <thead>\n",
       "    <tr style=\"text-align: right;\">\n",
       "      <th></th>\n",
       "      <th>Actual</th>\n",
       "      <th>Predicted</th>\n",
       "    </tr>\n",
       "  </thead>\n",
       "  <tbody>\n",
       "    <tr>\n",
       "      <th>0</th>\n",
       "      <td>200624</td>\n",
       "      <td>232,685.13</td>\n",
       "    </tr>\n",
       "    <tr>\n",
       "      <th>1</th>\n",
       "      <td>133000</td>\n",
       "      <td>145,814.13</td>\n",
       "    </tr>\n",
       "    <tr>\n",
       "      <th>2</th>\n",
       "      <td>110000</td>\n",
       "      <td>110,370.98</td>\n",
       "    </tr>\n",
       "    <tr>\n",
       "      <th>3</th>\n",
       "      <td>192000</td>\n",
       "      <td>217,180.12</td>\n",
       "    </tr>\n",
       "    <tr>\n",
       "      <th>4</th>\n",
       "      <td>88000</td>\n",
       "      <td>81,228.14</td>\n",
       "    </tr>\n",
       "    <tr>\n",
       "      <th>5</th>\n",
       "      <td>85000</td>\n",
       "      <td>60,434.90</td>\n",
       "    </tr>\n",
       "    <tr>\n",
       "      <th>6</th>\n",
       "      <td>282922</td>\n",
       "      <td>260,743.24</td>\n",
       "    </tr>\n",
       "    <tr>\n",
       "      <th>7</th>\n",
       "      <td>141000</td>\n",
       "      <td>149,101.50</td>\n",
       "    </tr>\n",
       "    <tr>\n",
       "      <th>8</th>\n",
       "      <td>745000</td>\n",
       "      <td>495,205.31</td>\n",
       "    </tr>\n",
       "    <tr>\n",
       "      <th>9</th>\n",
       "      <td>148800</td>\n",
       "      <td>146,731.16</td>\n",
       "    </tr>\n",
       "    <tr>\n",
       "      <th>10</th>\n",
       "      <td>208900</td>\n",
       "      <td>196,039.31</td>\n",
       "    </tr>\n",
       "    <tr>\n",
       "      <th>11</th>\n",
       "      <td>136905</td>\n",
       "      <td>173,376.76</td>\n",
       "    </tr>\n",
       "    <tr>\n",
       "      <th>12</th>\n",
       "      <td>225000</td>\n",
       "      <td>231,282.77</td>\n",
       "    </tr>\n",
       "    <tr>\n",
       "      <th>13</th>\n",
       "      <td>123000</td>\n",
       "      <td>106,357.62</td>\n",
       "    </tr>\n",
       "    <tr>\n",
       "      <th>14</th>\n",
       "      <td>119200</td>\n",
       "      <td>139,090.76</td>\n",
       "    </tr>\n",
       "  </tbody>\n",
       "</table>\n",
       "</div>"
      ],
      "text/plain": [
       "    Actual  Predicted\n",
       "0   200624 232,685.13\n",
       "1   133000 145,814.13\n",
       "2   110000 110,370.98\n",
       "3   192000 217,180.12\n",
       "4    88000  81,228.14\n",
       "5    85000  60,434.90\n",
       "6   282922 260,743.24\n",
       "7   141000 149,101.50\n",
       "8   745000 495,205.31\n",
       "9   148800 146,731.16\n",
       "10  208900 196,039.31\n",
       "11  136905 173,376.76\n",
       "12  225000 231,282.77\n",
       "13  123000 106,357.62\n",
       "14  119200 139,090.76"
      ]
     },
     "execution_count": 410,
     "metadata": {},
     "output_type": "execute_result"
    }
   ],
   "source": [
    "f_pred = regressor.predict(E_test)\n",
    "train_res3 = pd.DataFrame({'Actual': f_test.flatten(), 'Predicted': f_pred.flatten()})\n",
    "train_res3.head(15)"
   ]
  },
  {
   "cell_type": "code",
   "execution_count": 411,
   "metadata": {},
   "outputs": [
    {
     "data": {
      "image/png": "[encoded data removed]",
      "text/plain": [
       "<Figure size 576x576 with 1 Axes>"
      ]
     },
     "metadata": {
      "needs_background": "light"
     },
     "output_type": "display_data"
    }
   ],
   "source": [
    "train_res3 = train_res3.head(15)\n",
    "train_res3.plot(kind='bar',figsize=(8,8))\n",
    "plt.grid(which='major', linestyle='-', linewidth='0.5', color='black')\n",
    "plt.grid(which='minor', linestyle=':', linewidth='0.5', color='black')\n",
    "plt.show()"
   ]
  },
  {
   "cell_type": "code",
   "execution_count": 429,
   "metadata": {},
   "outputs": [
    {
     "name": "stdout",
     "output_type": "stream",
     "text": [
      "Mean Absolute Error: 23605.79783977028\n",
      "R-squared Error: 0.6991839509902085\n"
     ]
    }
   ],
   "source": [
    "print('Mean Absolute Error:', metrics.mean_absolute_error(f_test, f_pred))  \n",
    "print('R-squared Error:', metrics.r2_score(f_test, f_pred))"
   ]
  },
  {
   "cell_type": "markdown",
   "metadata": {},
   "source": [
    "### Conclusion\n",
    "After playing around with different features, we found that we could best improve the original model with the features shown above. The r-squared error is higher than it was in the original model with 0.699, even though that means the model is still not accurate. It is possible that linear regression is not the best model for predicting the sale prices of houses in this dataset."
   ]
  }
 ],
 "metadata": {
  "kernelspec": {
   "display_name": "Python 3",
   "language": "python",
   "name": "python3"
  },
  "language_info": {
   "codemirror_mode": {
    "name": "ipython",
    "version": 3
   },
   "file_extension": ".py",
   "mimetype": "text/x-python",
   "name": "python",
   "nbconvert_exporter": "python",
   "pygments_lexer": "ipython3",
   "version": "3.8.5"
  }
 },
 "nbformat": 4,
 "nbformat_minor": 4
}
