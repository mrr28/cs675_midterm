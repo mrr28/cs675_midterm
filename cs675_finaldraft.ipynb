# CS 675 Midterm Project
## Neha F. Kazi, immy R. Najjar, Megan Resurreccion, 
