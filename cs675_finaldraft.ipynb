{
 "cells": [
  {
   "cell_type": "markdown",
   "metadata": {},
   "source": [
    "# CS 675 Midterm Project\n",
    "## Neha F. Kazi, Jimmy R. Najjar, Megan Resurreccion\n",
    "\n",
    "#### Project Division\n",
    "Between the three of us, we split the project three ways and focused on our own machine learning algorithm. The results of the following will vary, and we afterwards discussed the results and what was best."
   ]
  },
  {
   "cell_type": "markdown",
   "metadata": {},
   "source": [
    "**Import Packages**"
   ]
  },
  {
   "cell_type": "code",
   "execution_count": 599,
   "metadata": {},
   "outputs": [],
   "source": [
    "import pandas as pd\n",
    "import matplotlib.pyplot as plt\n",
    "import numpy as np\n",
    "import csv\n",
    "import seaborn as sns\n",
    "import graphviz\n",
    "import plotly.express as px\n",
    "from sklearn import metrics, neighbors, preprocessing, model_selection, datasets, svm, cluster, datasets, mixture, tree\n",
    "from sklearn.cluster import KMeans, MeanShift, DBSCAN, AgglomerativeClustering\n",
    "from sklearn.datasets import make_moons, make_blobs\n",
    "from sklearn.decomposition import PCA, KernelPCA\n",
    "from sklearn.ensemble import RandomForestRegressor\n",
    "from sklearn.linear_model import LinearRegression, LogisticRegression\n",
    "from sklearn.metrics import accuracy_score, classification_report, roc_curve, auc, confusion_matrix, silhouette_score, calinski_harabasz_score\n",
    "from sklearn.metrics.cluster import completeness_score, homogeneity_score\n",
    "from sklearn.metrics.pairwise import euclidean_distances,cosine_distances,manhattan_distances,cosine_similarity\n",
    "from sklearn.model_selection import train_test_split\n",
    "from sklearn.naive_bayes import GaussianNB\n",
    "from sklearn.neighbors import KNeighborsClassifier\n",
    "from sklearn.preprocessing import OneHotEncoder, LabelEncoder, StandardScaler\n",
    "from sklearn.svm import SVC, SVR\n",
    "from sklearn.tree import DecisionTreeClassifier, export_graphviz, DecisionTreeRegressor\n",
    "pd.options.display.max_rows = 50\n",
    "pd.options.display.float_format = '{:,.2f}'.format\n",
    "import warnings\n",
    "warnings.filterwarnings('ignore')"
   ]
  },
  {
   "cell_type": "code",
   "execution_count": 600,
   "metadata": {},
   "outputs": [
    {
     "data": {
      "text/plain": [
       "(1460, 81)"
      ]
     },
     "execution_count": 600,
     "metadata": {},
     "output_type": "execute_result"
    }
   ],
   "source": [
    "train_df = pd.read_csv('train.csv')\n",
    "train_df.shape"
   ]
  },
  {
   "cell_type": "code",
   "execution_count": 601,
   "metadata": {},
   "outputs": [
    {
     "data": {
      "text/plain": [
       "(1459, 80)"
      ]
     },
     "execution_count": 601,
     "metadata": {},
     "output_type": "execute_result"
    }
   ],
   "source": [
    "test_df = pd.read_csv('test.csv')\n",
    "test_df.shape"
   ]
  },
  {
   "cell_type": "markdown",
   "metadata": {},
   "source": [
    "**Replace string values with numerical ones**"
   ]
  },
  {
   "cell_type": "code",
   "execution_count": 602,
   "metadata": {},
   "outputs": [],
   "source": [
    "train_df['LotFrontage'].fillna('NA',inplace=True)\n",
    "train_df['LotFrontage'].fillna('Alley',inplace=True)\n",
    "train_df['MasVnrType'].fillna('NA',inplace=True)\n",
    "train_df['MasVnrArea'].fillna('NA',inplace=True)\n",
    "train_df['BsmtQual'].fillna('NA',inplace=True)\n",
    "train_df['BsmtCond'].fillna('NA',inplace=True)\n",
    "train_df['BsmtExposure'].fillna('NA',inplace=True)\n",
    "train_df['BsmtFinType1'].fillna('NA',inplace=True)\n",
    "train_df['BsmtFinType2'].fillna('NA',inplace=True)\n",
    "train_df['Electrical'].fillna('NA',inplace=True)\n",
    "train_df['GarageType'].fillna('NA',inplace=True)\n",
    "train_df['GarageYrBlt'].fillna('NA',inplace=True)\n",
    "train_df['GarageFinish'].fillna('NA',inplace=True)\n",
    "train_df['GarageQual'].fillna('NA',inplace=True)\n",
    "train_df['GarageCond'].fillna('NA',inplace=True)\n",
    "train_df['FireplaceQu'].fillna('NA',inplace=True)\n",
    "train_df['PoolQC'].fillna('NA',inplace=True)\n",
    "train_df['Fence'].fillna('NA',inplace=True)\n",
    "train_df['MiscFeature'].fillna('NA',inplace=True)\n",
    "train_df['Alley'].fillna('NA',inplace=True)"
   ]
  },
  {
   "cell_type": "code",
   "execution_count": 603,
   "metadata": {},
   "outputs": [],
   "source": [
    "pavement = {'Y': 1.0, 'P': 0.5, 'N': 0}\n",
    "train_df.PavedDrive = [pavement[item] for item in train_df.PavedDrive]"
   ]
  },
  {
   "cell_type": "code",
   "execution_count": 604,
   "metadata": {},
   "outputs": [],
   "source": [
    "function = {'Typ': 8, 'Min1': 7, 'Min2': 6, 'Mod': 5, 'Maj1': 4, 'Maj2': 3, 'Sev': 2, 'Sal': 1}\n",
    "train_df.Functional = [function[item] for item in train_df.Functional]\n"
   ]
  },
  {
   "cell_type": "code",
   "execution_count": 605,
   "metadata": {},
   "outputs": [],
   "source": [
    "util = {'AllPub': 4, 'NoSewr': 3, 'NoSeWa': 2, 'ELO': 1}\n",
    "train_df.Utilities = [util[item] for item in train_df.Utilities]\n"
   ]
  },
  {
   "cell_type": "code",
   "execution_count": 606,
   "metadata": {},
   "outputs": [],
   "source": [
    "bsmtex = {'Gd': 4, 'Av': 3, 'Mn': 2, 'No': 1, 'NA': 0}\n",
    "train_df.BsmtExposure = [bsmtex[item] for item in train_df.BsmtExposure]"
   ]
  },
  {
   "cell_type": "code",
   "execution_count": 607,
   "metadata": {},
   "outputs": [],
   "source": [
    "air = {'Y': 1, 'N': 0}\n",
    "train_df.CentralAir = [air[item] for item in train_df.CentralAir]"
   ]
  },
  {
   "cell_type": "code",
   "execution_count": 608,
   "metadata": {},
   "outputs": [],
   "source": [
    "fen = {'GdPrv': 4, 'MnPrv': 3, 'GdWo': 2, 'MnWw': 1, 'NA': 0}\n",
    "train_df.Fence = [fen[item] for item in train_df.Fence]"
   ]
  },
  {
   "cell_type": "code",
   "execution_count": 609,
   "metadata": {},
   "outputs": [],
   "source": [
    "rating = {'Ex': 5, 'Gd': 4, 'TA': 3, 'Fa': 2, 'Po': 1, 'NA': 0}\n",
    "train_df.BsmtQual = [rating[item] for item in train_df.BsmtQual]\n",
    "train_df.BsmtCond = [rating[item] for item in train_df.BsmtCond]\n",
    "train_df.KitchenQual = [rating[item] for item in train_df.KitchenQual]\n",
    "train_df.HeatingQC = [rating[item] for item in train_df.HeatingQC]\n",
    "train_df.FireplaceQu = [rating[item] for item in train_df.FireplaceQu]\n",
    "train_df.PoolQC = [rating[item] for item in train_df.PoolQC]"
   ]
  },
  {
   "cell_type": "markdown",
   "metadata": {},
   "source": [
    "**New Feature 1: Average of OverallQual and OverallCond**"
   ]
  },
  {
   "cell_type": "code",
   "execution_count": 610,
   "metadata": {},
   "outputs": [],
   "source": [
    "train_df['OverallRating'] = ((train_df['OverallQual']+train_df['OverallCond'])/2)\n",
    "train_df['OverallRating'].head()\n",
    "train_df = train_df.drop(['OverallQual','OverallCond'],axis=1)"
   ]
  },
  {
   "cell_type": "markdown",
   "metadata": {},
   "source": [
    "**New Feature 2: Total Square Feet of 1st and 2nd Floors**"
   ]
  },
  {
   "cell_type": "code",
   "execution_count": 611,
   "metadata": {},
   "outputs": [],
   "source": [
    "train_df['TotalFloorSqFt'] = train_df['1stFlrSF']+train_df['2ndFlrSF']\n",
    "train_df['TotalFloorSqFt'].head()\n",
    "train_df = train_df.drop(['1stFlrSF','2ndFlrSF'],axis=1)"
   ]
  },
  {
   "cell_type": "markdown",
   "metadata": {},
   "source": [
    "**New Feature 3: Total Outdoor Porch and Deck Square Feet**"
   ]
  },
  {
   "cell_type": "code",
   "execution_count": 612,
   "metadata": {},
   "outputs": [],
   "source": [
    "train_df['TotalPorchDeckSqFt'] = (train_df['WoodDeckSF']+train_df['OpenPorchSF']\n",
    "                                +train_df['EnclosedPorch']+train_df['3SsnPorch']\n",
    "                                +train_df['ScreenPorch'])\n",
    "\n",
    "train_df = train_df.drop(['WoodDeckSF','OpenPorchSF','EnclosedPorch','3SsnPorch','ScreenPorch'],axis=1)\n"
   ]
  },
  {
   "cell_type": "markdown",
   "metadata": {},
   "source": [
    "**New Feature 4: Garage Overall Quality**"
   ]
  },
  {
   "cell_type": "code",
   "execution_count": 613,
   "metadata": {},
   "outputs": [],
   "source": [
    "garage = {'Ex': 5, 'Gd': 4, 'TA': 3, 'Fa': 2, 'Po': 1, 'NA': 0}\n",
    "train_df.GarageQual = [garage[item] for item in train_df.GarageQual]\n",
    "train_df.GarageCond = [garage[item] for item in train_df.GarageCond]\n",
    "\n",
    "train_df['GarageOverall'] = ((train_df['GarageQual']+train_df['GarageCond'])/2)\n",
    "\n",
    "train_df = train_df.drop(['GarageQual','GarageCond'],axis=1)"
   ]
  },
  {
   "cell_type": "markdown",
   "metadata": {},
   "source": [
    "**New Feature 5: Exterior Overall Quality**"
   ]
  },
  {
   "cell_type": "code",
   "execution_count": 614,
   "metadata": {},
   "outputs": [],
   "source": [
    "exterior = {'Ex': 5, 'Gd': 4, 'TA': 3, 'Fa': 2, 'Po': 1, 'NA': 0}\n",
    "train_df.ExterQual = [exterior[item] for item in train_df.ExterQual]\n",
    "train_df.ExterCond = [exterior[item] for item in train_df.ExterCond]\n",
    "\n",
    "train_df['ExterOverall'] = ((train_df['ExterQual']+train_df['ExterCond'])/2)\n",
    "\n",
    "train_df = train_df.drop(['ExterQual','ExterCond'],axis=1)"
   ]
  },
  {
   "cell_type": "markdown",
   "metadata": {},
   "source": [
    "**Overall, we created 5 new features: OverallRating, TotalFloorSqFt, TotalPorchDeckSqFt, GarageOverall, and ExterOverall.**"
   ]
  },
  {
   "cell_type": "markdown",
   "metadata": {},
   "source": [
    "# Machine Learning Algorithm 1: Naive Bayes (Neha)"
   ]
  },
  {
   "cell_type": "markdown",
   "metadata": {},
   "source": [
    "## Extracting 'Features' and 'target'\n",
    "The features of only those columns are used which are providing rich information to get the target variable. Also, all the columns which have the same values for all rows are not included in feature set as they can't help to make predictions."
   ]
  },
  {
   "cell_type": "code",
   "execution_count": 615,
   "metadata": {},
   "outputs": [],
   "source": [
    "features =train_df[['MSSubClass','LotArea','SalePrice', 'PoolArea','MSSubClass']]"
   ]
  },
  {
   "cell_type": "code",
   "execution_count": 616,
   "metadata": {},
   "outputs": [
    {
     "name": "stdout",
     "output_type": "stream",
     "text": [
      "(1460, 5)\n"
     ]
    }
   ],
   "source": [
    "print(features.shape)"
   ]
  },
  {
   "cell_type": "code",
   "execution_count": 617,
   "metadata": {},
   "outputs": [],
   "source": [
    "target = train_df['SalePrice']"
   ]
  },
  {
   "cell_type": "code",
   "execution_count": 618,
   "metadata": {},
   "outputs": [
    {
     "name": "stdout",
     "output_type": "stream",
     "text": [
      "(1460,)\n"
     ]
    }
   ],
   "source": [
    "print(target.shape)"
   ]
  },
  {
   "cell_type": "markdown",
   "metadata": {},
   "source": [
    "## Splitting Dataset"
   ]
  },
  {
   "cell_type": "code",
   "execution_count": 619,
   "metadata": {},
   "outputs": [],
   "source": [
    "x_train, x_test, y_train, y_test =train_test_split(features,target,test_size=0.25,random_state=0)"
   ]
  },
  {
   "cell_type": "markdown",
   "metadata": {},
   "source": [
    "## Applying Naive Bayes Algorithm\n"
   ]
  },
  {
   "cell_type": "code",
   "execution_count": 620,
   "metadata": {},
   "outputs": [],
   "source": [
    "classifier = GaussianNB()\n",
    "classifier.fit(x_train, y_train)\n",
    "y_pred  =  classifier.predict(x_test)"
   ]
  },
  {
   "cell_type": "markdown",
   "metadata": {},
   "source": [
    "## Evaluating Performance"
   ]
  },
  {
   "cell_type": "code",
   "execution_count": 621,
   "metadata": {},
   "outputs": [
    {
     "name": "stdout",
     "output_type": "stream",
     "text": [
      "0.5671232876712329\n"
     ]
    }
   ],
   "source": [
    "cm = metrics.confusion_matrix(y_test, y_pred)\n",
    "ac = accuracy_score(y_test,y_pred)\n",
    "print(ac)"
   ]
  },
  {
   "cell_type": "code",
   "execution_count": 622,
   "metadata": {},
   "outputs": [
    {
     "name": "stdout",
     "output_type": "stream",
     "text": [
      "0.5671232876712329\n"
     ]
    }
   ],
   "source": [
    "nb_score = classifier.score(x_test, y_test)\n",
    "print(nb_score)"
   ]
  },
  {
   "cell_type": "code",
   "execution_count": 623,
   "metadata": {},
   "outputs": [
    {
     "name": "stdout",
     "output_type": "stream",
     "text": [
      "[[1 0 0 ... 0 0 0]\n",
      " [0 0 0 ... 0 0 0]\n",
      " [0 1 0 ... 0 0 0]\n",
      " ...\n",
      " [0 0 0 ... 0 0 0]\n",
      " [0 0 0 ... 0 0 1]\n",
      " [0 0 0 ... 0 0 0]]\n"
     ]
    }
   ],
   "source": [
    "m = metrics.confusion_matrix(y_test, y_pred)\n",
    "print(cm)"
   ]
  },
  {
   "cell_type": "markdown",
   "metadata": {},
   "source": [
    "## Plotting Confusion Matrix"
   ]
  },
  {
   "cell_type": "code",
   "execution_count": 624,
   "metadata": {},
   "outputs": [
    {
     "data": {
      "image/png": "[encoded data removed]",
      "text/plain": [
       "<Figure size 720x720 with 1 Axes>"
      ]
     },
     "metadata": {
      "needs_background": "light"
     },
     "output_type": "display_data"
    }
   ],
   "source": [
    "plt.figure(figsize=(10,10))\n",
    "plt.scatter(x_train.iloc[:,0:1], x_train.iloc[:,3:4], c=y_train[:], s=350, cmap='viridis')\n",
    "plt.title('Training data')\n",
    "plt.show()"
   ]
  },
  {
   "cell_type": "markdown",
   "metadata": {},
   "source": [
    "## Summary\n",
    "To prepare the dataset, I extract the features matrix and target array from the pandas DataFrame , Affter Splitting dataset, I applied Gaussian Naive Bayes Classifier to predict on a new data. After evaulating the performance to find the accuracy score which is approximately 0.5671. Plotting the Confusion Matrix in a Viridis Map, shows that the when data is abundant, other more complicated models tend to outperform Naive Bayes."
   ]
  },
  {
   "cell_type": "markdown",
   "metadata": {},
   "source": [
    "# Machine Learning Algorithm 2:  KNN (Jimmy)"
   ]
  },
  {
   "cell_type": "code",
   "execution_count": 625,
   "metadata": {},
   "outputs": [],
   "source": [
    "num_vars = train_df.columns[train_df.dtypes != 'object']\n",
    "obj_vars = train_df.columns[train_df.dtypes == 'object']"
   ]
  },
  {
   "cell_type": "code",
   "execution_count": 626,
   "metadata": {},
   "outputs": [
    {
     "name": "stdout",
     "output_type": "stream",
     "text": [
      "SalePrice's skew: 1.8828757597682129\n",
      "SalePrice's kurt: 6.536281860064529\n"
     ]
    },
    {
     "data": {
      "image/png": "[encoded data removed]",
      "text/plain": [
       "<Figure size 1440x360 with 2 Axes>"
      ]
     },
     "metadata": {
      "needs_background": "light"
     },
     "output_type": "display_data"
    }
   ],
   "source": [
    "from scipy.stats import norm, probplot\n",
    "print(f\"SalePrice's skew: {train_df.SalePrice.skew()}\")\n",
    "print(f\"SalePrice's kurt: {train_df.SalePrice.kurt()}\")\n",
    "f, ax = plt.subplots(1, 2, figsize=(20, 5))\n",
    "sns.distplot(train_df.SalePrice, fit=norm, ax=ax[0]);\n",
    "probplot(train_df.SalePrice, plot=ax[1])\n",
    "plt.show()"
   ]
  },
  {
   "cell_type": "code",
   "execution_count": 627,
   "metadata": {},
   "outputs": [
    {
     "data": {
      "text/html": [
       "<div>\n",
       "<style scoped>\n",
       "    .dataframe tbody tr th:only-of-type {\n",
       "        vertical-align: middle;\n",
       "    }\n",
       "\n",
       "    .dataframe tbody tr th {\n",
       "        vertical-align: top;\n",
       "    }\n",
       "\n",
       "    .dataframe thead th {\n",
       "        text-align: right;\n",
       "    }\n",
       "</style>\n",
       "<table border=\"1\" class=\"dataframe\">\n",
       "  <thead>\n",
       "    <tr style=\"text-align: right;\">\n",
       "      <th></th>\n",
       "      <th>0</th>\n",
       "      <th>1</th>\n",
       "      <th>2</th>\n",
       "      <th>3</th>\n",
       "      <th>4</th>\n",
       "      <th>5</th>\n",
       "      <th>6</th>\n",
       "      <th>7</th>\n",
       "      <th>8</th>\n",
       "      <th>9</th>\n",
       "      <th>...</th>\n",
       "      <th>33</th>\n",
       "      <th>34</th>\n",
       "      <th>35</th>\n",
       "      <th>36</th>\n",
       "      <th>37</th>\n",
       "      <th>38</th>\n",
       "      <th>39</th>\n",
       "      <th>40</th>\n",
       "      <th>41</th>\n",
       "      <th>42</th>\n",
       "    </tr>\n",
       "  </thead>\n",
       "  <tbody>\n",
       "    <tr>\n",
       "      <th>num vars</th>\n",
       "      <td>Id</td>\n",
       "      <td>MSSubClass</td>\n",
       "      <td>LotArea</td>\n",
       "      <td>Utilities</td>\n",
       "      <td>YearBuilt</td>\n",
       "      <td>YearRemodAdd</td>\n",
       "      <td>BsmtQual</td>\n",
       "      <td>BsmtCond</td>\n",
       "      <td>BsmtExposure</td>\n",
       "      <td>BsmtFinSF1</td>\n",
       "      <td>...</td>\n",
       "      <td>Fence</td>\n",
       "      <td>MiscVal</td>\n",
       "      <td>MoSold</td>\n",
       "      <td>YrSold</td>\n",
       "      <td>SalePrice</td>\n",
       "      <td>OverallRating</td>\n",
       "      <td>TotalFloorSqFt</td>\n",
       "      <td>TotalPorchDeckSqFt</td>\n",
       "      <td>GarageOverall</td>\n",
       "      <td>ExterOverall</td>\n",
       "    </tr>\n",
       "  </tbody>\n",
       "</table>\n",
       "<p>1 rows × 43 columns</p>\n",
       "</div>"
      ],
      "text/plain": [
       "          0           1        2          3          4             5   \\\n",
       "num vars  Id  MSSubClass  LotArea  Utilities  YearBuilt  YearRemodAdd   \n",
       "\n",
       "                6         7             8           9   ...     33       34  \\\n",
       "num vars  BsmtQual  BsmtCond  BsmtExposure  BsmtFinSF1  ...  Fence  MiscVal   \n",
       "\n",
       "              35      36         37             38              39  \\\n",
       "num vars  MoSold  YrSold  SalePrice  OverallRating  TotalFloorSqFt   \n",
       "\n",
       "                          40             41            42  \n",
       "num vars  TotalPorchDeckSqFt  GarageOverall  ExterOverall  \n",
       "\n",
       "[1 rows x 43 columns]"
      ]
     },
     "execution_count": 627,
     "metadata": {},
     "output_type": "execute_result"
    }
   ],
   "source": [
    "pd.DataFrame(num_vars, columns=['num vars']).T"
   ]
  },
  {
   "cell_type": "code",
   "execution_count": 628,
   "metadata": {},
   "outputs": [
    {
     "data": {
      "text/html": [
       "<div>\n",
       "<style scoped>\n",
       "    .dataframe tbody tr th:only-of-type {\n",
       "        vertical-align: middle;\n",
       "    }\n",
       "\n",
       "    .dataframe tbody tr th {\n",
       "        vertical-align: top;\n",
       "    }\n",
       "\n",
       "    .dataframe thead th {\n",
       "        text-align: right;\n",
       "    }\n",
       "</style>\n",
       "<table border=\"1\" class=\"dataframe\">\n",
       "  <thead>\n",
       "    <tr style=\"text-align: right;\">\n",
       "      <th></th>\n",
       "      <th>0</th>\n",
       "      <th>1</th>\n",
       "      <th>2</th>\n",
       "      <th>3</th>\n",
       "      <th>4</th>\n",
       "      <th>5</th>\n",
       "      <th>6</th>\n",
       "      <th>7</th>\n",
       "      <th>8</th>\n",
       "      <th>9</th>\n",
       "      <th>...</th>\n",
       "      <th>20</th>\n",
       "      <th>21</th>\n",
       "      <th>22</th>\n",
       "      <th>23</th>\n",
       "      <th>24</th>\n",
       "      <th>25</th>\n",
       "      <th>26</th>\n",
       "      <th>27</th>\n",
       "      <th>28</th>\n",
       "      <th>29</th>\n",
       "    </tr>\n",
       "  </thead>\n",
       "  <tbody>\n",
       "    <tr>\n",
       "      <th>obj vars</th>\n",
       "      <td>MSZoning</td>\n",
       "      <td>LotFrontage</td>\n",
       "      <td>Street</td>\n",
       "      <td>Alley</td>\n",
       "      <td>LotShape</td>\n",
       "      <td>LandContour</td>\n",
       "      <td>LotConfig</td>\n",
       "      <td>LandSlope</td>\n",
       "      <td>Neighborhood</td>\n",
       "      <td>Condition1</td>\n",
       "      <td>...</td>\n",
       "      <td>BsmtFinType1</td>\n",
       "      <td>BsmtFinType2</td>\n",
       "      <td>Heating</td>\n",
       "      <td>Electrical</td>\n",
       "      <td>GarageType</td>\n",
       "      <td>GarageYrBlt</td>\n",
       "      <td>GarageFinish</td>\n",
       "      <td>MiscFeature</td>\n",
       "      <td>SaleType</td>\n",
       "      <td>SaleCondition</td>\n",
       "    </tr>\n",
       "  </tbody>\n",
       "</table>\n",
       "<p>1 rows × 30 columns</p>\n",
       "</div>"
      ],
      "text/plain": [
       "                0            1       2      3         4            5   \\\n",
       "obj vars  MSZoning  LotFrontage  Street  Alley  LotShape  LandContour   \n",
       "\n",
       "                 6          7             8           9   ...            20  \\\n",
       "obj vars  LotConfig  LandSlope  Neighborhood  Condition1  ...  BsmtFinType1   \n",
       "\n",
       "                    21       22          23          24           25  \\\n",
       "obj vars  BsmtFinType2  Heating  Electrical  GarageType  GarageYrBlt   \n",
       "\n",
       "                    26           27        28             29  \n",
       "obj vars  GarageFinish  MiscFeature  SaleType  SaleCondition  \n",
       "\n",
       "[1 rows x 30 columns]"
      ]
     },
     "execution_count": 628,
     "metadata": {},
     "output_type": "execute_result"
    }
   ],
   "source": [
    "pd.DataFrame(obj_vars, columns=['obj vars']).T"
   ]
  },
  {
   "cell_type": "code",
   "execution_count": 629,
   "metadata": {},
   "outputs": [],
   "source": [
    "features =train_df[['MSSubClass','LotArea', 'PoolArea', 'GrLivArea','OverallRating']]"
   ]
  },
  {
   "cell_type": "code",
   "execution_count": 630,
   "metadata": {},
   "outputs": [
    {
     "name": "stdout",
     "output_type": "stream",
     "text": [
      "(1460, 5)\n"
     ]
    }
   ],
   "source": [
    "print(features.shape)\n"
   ]
  },
  {
   "cell_type": "code",
   "execution_count": 631,
   "metadata": {},
   "outputs": [],
   "source": [
    "target= train_df['SalePrice']\n"
   ]
  },
  {
   "cell_type": "code",
   "execution_count": 632,
   "metadata": {},
   "outputs": [
    {
     "name": "stdout",
     "output_type": "stream",
     "text": [
      "(1460,)\n"
     ]
    }
   ],
   "source": [
    "print(target.shape)\n"
   ]
  },
  {
   "cell_type": "code",
   "execution_count": 633,
   "metadata": {},
   "outputs": [
    {
     "data": {
      "text/plain": [
       "<bound method DataFrame.dropna of       MSSubClass  LotArea  PoolArea  GrLivArea  OverallRating\n",
       "0             60     8450         0       1710           6.00\n",
       "1             20     9600         0       1262           7.00\n",
       "2             60    11250         0       1786           6.00\n",
       "3             70     9550         0       1717           6.00\n",
       "4             60    14260         0       2198           6.50\n",
       "...          ...      ...       ...        ...            ...\n",
       "1455          60     7917         0       1647           5.50\n",
       "1456          20    13175         0       2073           6.00\n",
       "1457          70     9042         0       2340           8.00\n",
       "1458          20     9717         0       1078           5.50\n",
       "1459          20     9937         0       1256           5.50\n",
       "\n",
       "[1460 rows x 5 columns]>"
      ]
     },
     "execution_count": 633,
     "metadata": {},
     "output_type": "execute_result"
    }
   ],
   "source": [
    "features.dropna\n"
   ]
  },
  {
   "cell_type": "code",
   "execution_count": 634,
   "metadata": {},
   "outputs": [],
   "source": [
    "x_train, x_test, y_train, y_test =train_test_split(features,target,test_size=0.25,random_state=0)\n"
   ]
  },
  {
   "cell_type": "markdown",
   "metadata": {},
   "source": [
    "## Applying the KNN Algorithm on the Dataset"
   ]
  },
  {
   "cell_type": "code",
   "execution_count": 635,
   "metadata": {
    "scrolled": true
   },
   "outputs": [
    {
     "name": "stdout",
     "output_type": "stream",
     "text": [
      "[168000 133000 110000 192000  85400  85000 184000 141000 197000 143750\n",
      " 164700 110000 225000  99500 119200 145000 170000 123600  98600 130000\n",
      " 156932 140000  82000 135000 184000 168000 168500  81000 271000  98600\n",
      " 110000 204000 120000 226000 214500 175000 193000 112500 219500 290000\n",
      " 239686 125500 153000 280000 287000 119000  58500  83000 172500  84900\n",
      " 345000 122000 160000 100000 200000  62383 125000 143000  96500 107900\n",
      " 137500 109000 134450 143000 193500 156500 132000 219500  76500 225000\n",
      " 180000  68400  82000 174000 108000 232000 111000  79500 180000 158000\n",
      " 123000 119500 107500 130250 129000 145000 105000 127000 105000 129000\n",
      " 191000 141000 162000 180500 115000 145000 156500 115000  88000 137450\n",
      " 175000 138000 120000  89500 105900 260000 143000 106500 135000 100000\n",
      "  52000 109000 190000 107000 146000 155000 309000 133000 193500 112000\n",
      "  68400 114504 128500 176000 214000 159434 277000 179200 134000 144000\n",
      " 130000  98600 133900 153900 110000 162900 139500 119000 107900 164000\n",
      " 108000 140000 217000 126000 108959 150000 143000 128000 140000 194000\n",
      " 163000 191000 236500 145900 159000 239000  89471 179900  93000 108000\n",
      "  97000 133000 186500 128500 174000  85000 162000 265000 143500 172400\n",
      " 141000  98000 139000 155000 113000 139000 129000 159500 112000 124000\n",
      " 187500 170000 116000 131000  82500 175000  83000 127000 172500 131500\n",
      " 122900 145250 175000 121000 127000 118500  75500 139000 171000 106000\n",
      " 139000 109900 120500 124000 145000 191000 160000 206900 240000  58500\n",
      " 155000 117000  87500  60000 240000 129000  82500 256000 172500  81000\n",
      " 143000 110000 117000 110000 171750 250000 189000 171000 110000 135000\n",
      "  87500 101000  97000 129000 185000 117000 124000  86000  82000  97500\n",
      " 110000 143000 192500 161500 119000 140000  93000 140000  60000 179540\n",
      " 164900 190000  52000 325000 127000 184000  99900 174000 240000 160000\n",
      " 130000 108000 131500  90000 190000 178000 345000  68500 200000 115000\n",
      " 125000 234000 145000 134432 104000 211000 131500 138887 195000 108000\n",
      " 122000 190000  91500 117000 193879 137900  91500 163000 225000 136000\n",
      "  73000 101000 190000 109500 132000 271000 140000 154000 160000 155000\n",
      "  89500 120000 118964 139000 169500 121500 142000 194000 143000 137500\n",
      "  98300 167240 129900 119000 125500 141000 258000 102000 171750 129500\n",
      "  79900 135900 118400 197000 140000 140000  64500 214000 224000 132500\n",
      " 119500 136900 169000 148000 179900 141000 129000 150000 110000 128000\n",
      " 236500 162000 157000 215000 125000 144000 108480  98300  85500 125000\n",
      " 159000 310000  82000  97000 171900 229000 290000 157000 209500 228950\n",
      " 325000 131500 108000 117000  85000]\n"
     ]
    }
   ],
   "source": [
    "model = KNeighborsClassifier(n_neighbors=3)\n",
    "model.fit(features,target)\n",
    "predictions = model.predict(x_test)\n",
    "print(predictions)"
   ]
  },
  {
   "cell_type": "code",
   "execution_count": 636,
   "metadata": {},
   "outputs": [],
   "source": [
    "all_data = pd.concat((train_df, test_df)).drop(['SalePrice'], axis=1)\n",
    "cnt_missing = all_data.isnull().sum().sort_values(ascending=False)\n",
    "cnt_percent = cnt_missing / all_data.shape[0]\n",
    "missing_table = pd.DataFrame([cnt_missing, cnt_percent], \n",
    "                             index=['missing count', 'missing percent']).T\n",
    "missing_table = missing_table[missing_table['missing count'] > 0]"
   ]
  },
  {
   "cell_type": "code",
   "execution_count": 637,
   "metadata": {
    "scrolled": true
   },
   "outputs": [
    {
     "data": {
      "image/png": "[encoded data removed]",
      "text/plain": [
       "<Figure size 1152x576 with 1 Axes>"
      ]
     },
     "metadata": {
      "needs_background": "light"
     },
     "output_type": "display_data"
    }
   ],
   "source": [
    "f, ax = plt.subplots(figsize=(16, 8))\n",
    "sns.barplot(x=missing_table.index, y=missing_table['missing percent'], edgecolor = 'black')\n",
    "plt.title('Missing Percent Per Value', size=20)\n",
    "plt.xlabel('Value', size=15)\n",
    "plt.ylabel('Percent', size=15)\n",
    "plt.xticks(rotation='90')\n",
    "plt.show()"
   ]
  },
  {
   "cell_type": "code",
   "execution_count": 638,
   "metadata": {
    "scrolled": true
   },
   "outputs": [
    {
     "data": {
      "image/png": "[encoded data removed]",
      "text/plain": [
       "<Figure size 1800x1440 with 6 Axes>"
      ]
     },
     "metadata": {
      "needs_background": "light"
     },
     "output_type": "display_data"
    }
   ],
   "source": [
    "f, ax = plt.subplots(3, 2, figsize=(25, 20))\n",
    "for i, c in enumerate(features):\n",
    "    sns.distplot(all_data[c], color='#5747ff',fit=norm, ax=ax[i//2, i%2])"
   ]
  },
  {
   "cell_type": "code",
   "execution_count": 639,
   "metadata": {},
   "outputs": [
    {
     "name": "stdout",
     "output_type": "stream",
     "text": [
      "0.3095890410958904\n"
     ]
    }
   ],
   "source": [
    "knn_score = model.score(x_test, y_test)\n",
    "print(knn_score)"
   ]
  },
  {
   "cell_type": "code",
   "execution_count": 640,
   "metadata": {},
   "outputs": [
    {
     "name": "stdout",
     "output_type": "stream",
     "text": [
      "[[0 0 0 ... 0 0 0]\n",
      " [0 0 0 ... 0 0 0]\n",
      " [0 0 0 ... 0 0 0]\n",
      " ...\n",
      " [0 0 0 ... 0 0 0]\n",
      " [0 0 0 ... 0 0 0]\n",
      " [0 0 0 ... 0 0 0]]\n"
     ]
    }
   ],
   "source": [
    "cm = metrics.confusion_matrix(y_test, predictions)\n",
    "print(cm)"
   ]
  },
  {
   "cell_type": "code",
   "execution_count": 643,
   "metadata": {},
   "outputs": [
    {
     "data": {
      "image/png": "[encoded data removed]",
      "text/plain": [
       "<Figure size 720x720 with 1 Axes>"
      ]
     },
     "metadata": {
      "needs_background": "light"
     },
     "output_type": "display_data"
    }
   ],
   "source": [
    "plt.figure(figsize=(10,10))\n",
    "plt.scatter(x_train.iloc[:,0:1], x_train.iloc[:,3:4], c=y_train[:], s=350, cmap='viridis')\n",
    "plt.title('Training data')\n",
    "plt.show()"
   ]
  },
  {
   "cell_type": "code",
   "execution_count": 644,
   "metadata": {},
   "outputs": [
    {
     "data": {
      "image/png": "[encoded data removed]",
      "text/plain": [
       "<Figure size 576x504 with 2 Axes>"
      ]
     },
     "metadata": {
      "needs_background": "light"
     },
     "output_type": "display_data"
    }
   ],
   "source": [
    "f, ax = plt.subplots(figsize=(8, 7))\n",
    "highcorr_vars = (abs(train_df.corr().SalePrice).sort_values(ascending=False)[:7]).index\n",
    "sns.heatmap(train_df[highcorr_vars].corr(), annot=True, cmap = 'BrBG_r')\n",
    "plt.show()"
   ]
  },
  {
   "cell_type": "markdown",
   "metadata": {},
   "source": [
    "## Summary\n",
    "After looking at the train data set, we decided to analyze the set by using various algorithmic methods. I used KNN Algorithms on the following features MSSubClass, LotArea, PoolArea, OverallRating, etc...\n",
    "\n",
    "\n",
    "The result was quite unique showing that OverallQual and GrLivArea actually had the biggest impact on the algorithm and this might arise some issues due to the fact that strong variables might really affect the linearity of the whole data set when calculating for the accuracy score of 0.309589"
   ]
  },
  {
   "cell_type": "markdown",
   "metadata": {},
   "source": [
    "# Machine Learning Algorithm 3: Linear Regression (Megan)"
   ]
  },
  {
   "cell_type": "markdown",
   "metadata": {},
   "source": [
    "**Initial Features and Target Feature**"
   ]
  },
  {
   "cell_type": "code",
   "execution_count": 645,
   "metadata": {},
   "outputs": [],
   "source": [
    "train_feats = train_df[['MSSubClass','LotArea','Utilities',\n",
    "                       'YearBuilt','YearRemodAdd','BsmtQual','BsmtCond',\n",
    "                       'BsmtExposure','BsmtFinSF1','BsmtFinSF2','BsmtUnfSF',\n",
    "                        'TotalBsmtSF','HeatingQC','CentralAir','LowQualFinSF',\n",
    "                        'GrLivArea','BsmtFullBath','BsmtHalfBath','FullBath','HalfBath',\n",
    "                        'BedroomAbvGr','KitchenAbvGr','KitchenQual','TotRmsAbvGrd',\n",
    "                        'Functional','Fireplaces','FireplaceQu','GarageCars', 'GarageArea',\n",
    "                        'PoolArea','PoolQC','Fence','MiscVal','OverallRating','TotalFloorSqFt',\n",
    "                        'TotalPorchDeckSqFt','GarageOverall','PavedDrive','TotalPorchDeckSqFt',\n",
    "                       'ExterOverall']]\n",
    "train_target = train_df['SalePrice']"
   ]
  },
  {
   "cell_type": "markdown",
   "metadata": {},
   "source": [
    "## Initial Linear Regression Test"
   ]
  },
  {
   "cell_type": "code",
   "execution_count": 646,
   "metadata": {},
   "outputs": [],
   "source": [
    "X = train_feats[['MSSubClass','LotArea','Utilities',\n",
    "                       'YearBuilt','YearRemodAdd','BsmtQual','BsmtCond',\n",
    "                       'BsmtExposure','BsmtFinSF1','BsmtFinSF2','BsmtUnfSF',\n",
    "                        'TotalBsmtSF','HeatingQC','CentralAir','LowQualFinSF',\n",
    "                        'GrLivArea','BsmtFullBath','BsmtHalfBath','FullBath','HalfBath',\n",
    "                        'BedroomAbvGr','KitchenAbvGr','KitchenQual','TotRmsAbvGrd',\n",
    "                        'Functional','Fireplaces','FireplaceQu','GarageCars', 'GarageArea',\n",
    "                        'PoolArea','PoolQC','Fence','MiscVal','OverallRating','TotalFloorSqFt',\n",
    "                        'TotalPorchDeckSqFt','GarageOverall','PavedDrive','TotalPorchDeckSqFt',\n",
    "                       'ExterOverall']].values\n",
    "y = train_df['SalePrice'].values"
   ]
  },
  {
   "cell_type": "code",
   "execution_count": 647,
   "metadata": {},
   "outputs": [
    {
     "data": {
      "text/plain": [
       "(1460, 42)"
      ]
     },
     "execution_count": 647,
     "metadata": {},
     "output_type": "execute_result"
    }
   ],
   "source": [
    "X.shape"
   ]
  },
  {
   "cell_type": "code",
   "execution_count": 648,
   "metadata": {},
   "outputs": [],
   "source": [
    "X_train, X_test, y_train, y_test = train_test_split(X, y, test_size=0.2, random_state=0)\n"
   ]
  },
  {
   "cell_type": "code",
   "execution_count": 649,
   "metadata": {},
   "outputs": [
    {
     "data": {
      "text/plain": [
       "LinearRegression()"
      ]
     },
     "execution_count": 649,
     "metadata": {},
     "output_type": "execute_result"
    }
   ],
   "source": [
    "regressor = LinearRegression()  \n",
    "regressor.fit(X_train, y_train)"
   ]
  },
  {
   "cell_type": "code",
   "execution_count": 650,
   "metadata": {},
   "outputs": [],
   "source": [
    "y_pred = regressor.predict(X_test)\n"
   ]
  },
  {
   "cell_type": "code",
   "execution_count": 651,
   "metadata": {},
   "outputs": [
    {
     "data": {
      "text/html": [
       "<div>\n",
       "<style scoped>\n",
       "    .dataframe tbody tr th:only-of-type {\n",
       "        vertical-align: middle;\n",
       "    }\n",
       "\n",
       "    .dataframe tbody tr th {\n",
       "        vertical-align: top;\n",
       "    }\n",
       "\n",
       "    .dataframe thead th {\n",
       "        text-align: right;\n",
       "    }\n",
       "</style>\n",
       "<table border=\"1\" class=\"dataframe\">\n",
       "  <thead>\n",
       "    <tr style=\"text-align: right;\">\n",
       "      <th></th>\n",
       "      <th>Actual</th>\n",
       "      <th>Predicted</th>\n",
       "    </tr>\n",
       "  </thead>\n",
       "  <tbody>\n",
       "    <tr>\n",
       "      <th>0</th>\n",
       "      <td>200624</td>\n",
       "      <td>218,588.55</td>\n",
       "    </tr>\n",
       "    <tr>\n",
       "      <th>1</th>\n",
       "      <td>133000</td>\n",
       "      <td>135,623.76</td>\n",
       "    </tr>\n",
       "    <tr>\n",
       "      <th>2</th>\n",
       "      <td>110000</td>\n",
       "      <td>102,323.48</td>\n",
       "    </tr>\n",
       "    <tr>\n",
       "      <th>3</th>\n",
       "      <td>192000</td>\n",
       "      <td>215,573.86</td>\n",
       "    </tr>\n",
       "    <tr>\n",
       "      <th>4</th>\n",
       "      <td>88000</td>\n",
       "      <td>83,369.45</td>\n",
       "    </tr>\n",
       "    <tr>\n",
       "      <th>5</th>\n",
       "      <td>85000</td>\n",
       "      <td>55,251.01</td>\n",
       "    </tr>\n",
       "    <tr>\n",
       "      <th>6</th>\n",
       "      <td>282922</td>\n",
       "      <td>255,987.85</td>\n",
       "    </tr>\n",
       "    <tr>\n",
       "      <th>7</th>\n",
       "      <td>141000</td>\n",
       "      <td>152,060.97</td>\n",
       "    </tr>\n",
       "    <tr>\n",
       "      <th>8</th>\n",
       "      <td>745000</td>\n",
       "      <td>495,026.98</td>\n",
       "    </tr>\n",
       "    <tr>\n",
       "      <th>9</th>\n",
       "      <td>148800</td>\n",
       "      <td>147,158.36</td>\n",
       "    </tr>\n",
       "    <tr>\n",
       "      <th>10</th>\n",
       "      <td>208900</td>\n",
       "      <td>182,205.91</td>\n",
       "    </tr>\n",
       "    <tr>\n",
       "      <th>11</th>\n",
       "      <td>136905</td>\n",
       "      <td>144,574.22</td>\n",
       "    </tr>\n",
       "    <tr>\n",
       "      <th>12</th>\n",
       "      <td>225000</td>\n",
       "      <td>247,267.31</td>\n",
       "    </tr>\n",
       "    <tr>\n",
       "      <th>13</th>\n",
       "      <td>123000</td>\n",
       "      <td>107,894.00</td>\n",
       "    </tr>\n",
       "    <tr>\n",
       "      <th>14</th>\n",
       "      <td>119200</td>\n",
       "      <td>137,884.44</td>\n",
       "    </tr>\n",
       "  </tbody>\n",
       "</table>\n",
       "</div>"
      ],
      "text/plain": [
       "    Actual  Predicted\n",
       "0   200624 218,588.55\n",
       "1   133000 135,623.76\n",
       "2   110000 102,323.48\n",
       "3   192000 215,573.86\n",
       "4    88000  83,369.45\n",
       "5    85000  55,251.01\n",
       "6   282922 255,987.85\n",
       "7   141000 152,060.97\n",
       "8   745000 495,026.98\n",
       "9   148800 147,158.36\n",
       "10  208900 182,205.91\n",
       "11  136905 144,574.22\n",
       "12  225000 247,267.31\n",
       "13  123000 107,894.00\n",
       "14  119200 137,884.44"
      ]
     },
     "execution_count": 651,
     "metadata": {},
     "output_type": "execute_result"
    }
   ],
   "source": [
    "train_res = pd.DataFrame({'Actual': y_test.flatten(), 'Predicted': y_pred.flatten()})\n",
    "train_res.head(15)"
   ]
  },
  {
   "cell_type": "code",
   "execution_count": 652,
   "metadata": {},
   "outputs": [
    {
     "data": {
      "image/png": "[encoded data removed]",
      "text/plain": [
       "<Figure size 432x432 with 1 Axes>"
      ]
     },
     "metadata": {
      "needs_background": "light"
     },
     "output_type": "display_data"
    }
   ],
   "source": [
    "train_res = train_res.head(15)\n",
    "train_res.plot(kind='bar',figsize=(6,6),color=['#fc3a7b','#42f5b6'])\n",
    "plt.grid(which='major', linestyle='-', linewidth='0.5', color='black')\n",
    "plt.show()"
   ]
  },
  {
   "cell_type": "code",
   "execution_count": 653,
   "metadata": {},
   "outputs": [
    {
     "name": "stdout",
     "output_type": "stream",
     "text": [
      "Mean Absolute Error: 22434.368427105073\n",
      "R-squared Error: 0.6634509613293098\n"
     ]
    }
   ],
   "source": [
    "print('Mean Absolute Error:', metrics.mean_absolute_error(y_test, y_pred))  \n",
    "print('R-squared Error:', metrics.r2_score(y_test, y_pred))"
   ]
  },
  {
   "cell_type": "markdown",
   "metadata": {},
   "source": [
    "**Mean Absolute Error is about 22,434.36. R-squared Error is about 0.6634. The model was close in predicting some of the actual values but is overall not that accurate. We will use some dimensionality reduction techniques to see if we can improve the model.**"
   ]
  },
  {
   "cell_type": "markdown",
   "metadata": {},
   "source": [
    "## Attempt to Improve Linear Regression Test 1\n",
    "Use variance check with features and remove features with low variance.\n"
   ]
  },
  {
   "cell_type": "markdown",
   "metadata": {},
   "source": [
    "**Check Feature Variance**"
   ]
  },
  {
   "cell_type": "code",
   "execution_count": 654,
   "metadata": {},
   "outputs": [
    {
     "data": {
      "text/plain": [
       "Id                         177,755.00\n",
       "MSSubClass                   1,789.34\n",
       "LotArea                 99,625,649.65\n",
       "Utilities                        0.00\n",
       "YearBuilt                      912.22\n",
       "YearRemodAdd                   426.23\n",
       "BsmtQual                         0.77\n",
       "BsmtCond                         0.30\n",
       "BsmtExposure                     1.14\n",
       "BsmtFinSF1                 208,025.47\n",
       "BsmtFinSF2                  26,023.91\n",
       "BsmtUnfSF                  195,246.41\n",
       "TotalBsmtSF                192,462.36\n",
       "HeatingQC                        0.92\n",
       "CentralAir                       0.06\n",
       "LowQualFinSF                 2,364.20\n",
       "GrLivArea                  276,129.63\n",
       "BsmtFullBath                     0.27\n",
       "BsmtHalfBath                     0.06\n",
       "FullBath                         0.30\n",
       "HalfBath                         0.25\n",
       "BedroomAbvGr                     0.67\n",
       "KitchenAbvGr                     0.05\n",
       "KitchenQual                      0.44\n",
       "TotRmsAbvGrd                     2.64\n",
       "Functional                       0.45\n",
       "Fireplaces                       0.42\n",
       "FireplaceQu                      3.28\n",
       "GarageCars                       0.56\n",
       "GarageArea                  45,712.51\n",
       "PavedDrive                       0.06\n",
       "PoolArea                     1,614.22\n",
       "PoolQC                           0.07\n",
       "Fence                            1.45\n",
       "MiscVal                    246,138.06\n",
       "MoSold                           7.31\n",
       "YrSold                           1.76\n",
       "SalePrice            6,311,111,264.30\n",
       "OverallRating                    0.72\n",
       "TotalFloorSqFt             271,611.42\n",
       "TotalPorchDeckSqFt          24,541.13\n",
       "GarageOverall                    0.51\n",
       "ExterOverall                     0.11\n",
       "dtype: float64"
      ]
     },
     "execution_count": 654,
     "metadata": {},
     "output_type": "execute_result"
    }
   ],
   "source": [
    "train_df.var()\n"
   ]
  },
  {
   "cell_type": "markdown",
   "metadata": {},
   "source": [
    "**Select features that all have a variance greater than 0.5.**"
   ]
  },
  {
   "cell_type": "code",
   "execution_count": 655,
   "metadata": {},
   "outputs": [],
   "source": [
    "train_feats1 = train_df[['MSSubClass','LotArea',\n",
    "                       'YearBuilt','YearRemodAdd','BsmtQual',\n",
    "                       'BsmtExposure','BsmtFinSF1','BsmtFinSF2','BsmtUnfSF',\n",
    "                        'TotalBsmtSF','HeatingQC','LowQualFinSF',\n",
    "                        'GrLivArea',\n",
    "                        'BedroomAbvGr','TotRmsAbvGrd',\n",
    "                        'FireplaceQu','GarageCars', 'GarageArea',\n",
    "                        'PoolArea','Fence','MiscVal','OverallRating','TotalFloorSqFt',\n",
    "                        'TotalPorchDeckSqFt']]"
   ]
  },
  {
   "cell_type": "code",
   "execution_count": 656,
   "metadata": {},
   "outputs": [
    {
     "data": {
      "text/plain": [
       "(1460, 24)"
      ]
     },
     "execution_count": 656,
     "metadata": {},
     "output_type": "execute_result"
    }
   ],
   "source": [
    "train_feats1.shape\n"
   ]
  },
  {
   "cell_type": "code",
   "execution_count": 657,
   "metadata": {},
   "outputs": [],
   "source": [
    "A = train_feats1[['MSSubClass','LotArea',\n",
    "                       'YearBuilt','YearRemodAdd','BsmtQual',\n",
    "                       'BsmtExposure','BsmtFinSF1','BsmtFinSF2','BsmtUnfSF',\n",
    "                        'TotalBsmtSF','HeatingQC','LowQualFinSF',\n",
    "                        'GrLivArea',\n",
    "                        'BedroomAbvGr','TotRmsAbvGrd',\n",
    "                        'FireplaceQu','GarageCars', 'GarageArea',\n",
    "                        'PoolArea','Fence','MiscVal','OverallRating','TotalFloorSqFt',\n",
    "                        'TotalPorchDeckSqFt']].values\n",
    "b = train_df['SalePrice'].values"
   ]
  },
  {
   "cell_type": "code",
   "execution_count": 658,
   "metadata": {},
   "outputs": [
    {
     "data": {
      "text/plain": [
       "(1460, 24)"
      ]
     },
     "execution_count": 658,
     "metadata": {},
     "output_type": "execute_result"
    }
   ],
   "source": [
    "A.shape"
   ]
  },
  {
   "cell_type": "code",
   "execution_count": 659,
   "metadata": {},
   "outputs": [],
   "source": [
    "A_train, A_test, b_train, b_test = train_test_split(A, b, test_size=0.2, random_state=0)\n"
   ]
  },
  {
   "cell_type": "code",
   "execution_count": 660,
   "metadata": {},
   "outputs": [
    {
     "data": {
      "text/plain": [
       "LinearRegression()"
      ]
     },
     "execution_count": 660,
     "metadata": {},
     "output_type": "execute_result"
    }
   ],
   "source": [
    "regressor.fit(A_train, b_train)"
   ]
  },
  {
   "cell_type": "code",
   "execution_count": 661,
   "metadata": {},
   "outputs": [],
   "source": [
    "b_pred = regressor.predict(A_test)"
   ]
  },
  {
   "cell_type": "code",
   "execution_count": 662,
   "metadata": {},
   "outputs": [
    {
     "data": {
      "text/html": [
       "<div>\n",
       "<style scoped>\n",
       "    .dataframe tbody tr th:only-of-type {\n",
       "        vertical-align: middle;\n",
       "    }\n",
       "\n",
       "    .dataframe tbody tr th {\n",
       "        vertical-align: top;\n",
       "    }\n",
       "\n",
       "    .dataframe thead th {\n",
       "        text-align: right;\n",
       "    }\n",
       "</style>\n",
       "<table border=\"1\" class=\"dataframe\">\n",
       "  <thead>\n",
       "    <tr style=\"text-align: right;\">\n",
       "      <th></th>\n",
       "      <th>Actual</th>\n",
       "      <th>Predicted</th>\n",
       "    </tr>\n",
       "  </thead>\n",
       "  <tbody>\n",
       "    <tr>\n",
       "      <th>0</th>\n",
       "      <td>200624</td>\n",
       "      <td>251,926.68</td>\n",
       "    </tr>\n",
       "    <tr>\n",
       "      <th>1</th>\n",
       "      <td>133000</td>\n",
       "      <td>147,765.93</td>\n",
       "    </tr>\n",
       "    <tr>\n",
       "      <th>2</th>\n",
       "      <td>110000</td>\n",
       "      <td>95,674.03</td>\n",
       "    </tr>\n",
       "    <tr>\n",
       "      <th>3</th>\n",
       "      <td>192000</td>\n",
       "      <td>221,653.77</td>\n",
       "    </tr>\n",
       "    <tr>\n",
       "      <th>4</th>\n",
       "      <td>88000</td>\n",
       "      <td>84,976.91</td>\n",
       "    </tr>\n",
       "    <tr>\n",
       "      <th>5</th>\n",
       "      <td>85000</td>\n",
       "      <td>74,726.52</td>\n",
       "    </tr>\n",
       "    <tr>\n",
       "      <th>6</th>\n",
       "      <td>282922</td>\n",
       "      <td>255,312.11</td>\n",
       "    </tr>\n",
       "    <tr>\n",
       "      <th>7</th>\n",
       "      <td>141000</td>\n",
       "      <td>138,881.48</td>\n",
       "    </tr>\n",
       "    <tr>\n",
       "      <th>8</th>\n",
       "      <td>745000</td>\n",
       "      <td>512,623.12</td>\n",
       "    </tr>\n",
       "    <tr>\n",
       "      <th>9</th>\n",
       "      <td>148800</td>\n",
       "      <td>139,527.76</td>\n",
       "    </tr>\n",
       "    <tr>\n",
       "      <th>10</th>\n",
       "      <td>208900</td>\n",
       "      <td>191,064.73</td>\n",
       "    </tr>\n",
       "    <tr>\n",
       "      <th>11</th>\n",
       "      <td>136905</td>\n",
       "      <td>164,894.71</td>\n",
       "    </tr>\n",
       "    <tr>\n",
       "      <th>12</th>\n",
       "      <td>225000</td>\n",
       "      <td>244,548.15</td>\n",
       "    </tr>\n",
       "    <tr>\n",
       "      <th>13</th>\n",
       "      <td>123000</td>\n",
       "      <td>110,399.29</td>\n",
       "    </tr>\n",
       "    <tr>\n",
       "      <th>14</th>\n",
       "      <td>119200</td>\n",
       "      <td>131,551.97</td>\n",
       "    </tr>\n",
       "  </tbody>\n",
       "</table>\n",
       "</div>"
      ],
      "text/plain": [
       "    Actual  Predicted\n",
       "0   200624 251,926.68\n",
       "1   133000 147,765.93\n",
       "2   110000  95,674.03\n",
       "3   192000 221,653.77\n",
       "4    88000  84,976.91\n",
       "5    85000  74,726.52\n",
       "6   282922 255,312.11\n",
       "7   141000 138,881.48\n",
       "8   745000 512,623.12\n",
       "9   148800 139,527.76\n",
       "10  208900 191,064.73\n",
       "11  136905 164,894.71\n",
       "12  225000 244,548.15\n",
       "13  123000 110,399.29\n",
       "14  119200 131,551.97"
      ]
     },
     "execution_count": 662,
     "metadata": {},
     "output_type": "execute_result"
    }
   ],
   "source": [
    "train_res1 = pd.DataFrame({'Actual': b_test.flatten(), 'Predicted': b_pred.flatten()})\n",
    "train_res1.head(15)"
   ]
  },
  {
   "cell_type": "code",
   "execution_count": 663,
   "metadata": {},
   "outputs": [
    {
     "data": {
      "image/png": "[encoded data removed]",
      "text/plain": [
       "<Figure size 432x432 with 1 Axes>"
      ]
     },
     "metadata": {
      "needs_background": "light"
     },
     "output_type": "display_data"
    }
   ],
   "source": [
    "train_res1 = train_res1.head(15)\n",
    "train_res1.plot(kind='bar',figsize=(6,6),color=['#fc3a7b','#42f5b6'])\n",
    "plt.grid(which='major', linestyle='-', linewidth='0.5', color='black')\n",
    "plt.show()"
   ]
  },
  {
   "cell_type": "code",
   "execution_count": 664,
   "metadata": {},
   "outputs": [
    {
     "name": "stdout",
     "output_type": "stream",
     "text": [
      "Mean Absolute Error: 23314.538395248986\n",
      "R-squared Error: 0.6519945303565691\n"
     ]
    }
   ],
   "source": [
    "print('Mean Absolute Error:', metrics.mean_absolute_error(b_test, b_pred))  \n",
    "print('R-squared Error:', metrics.r2_score(b_test, b_pred))"
   ]
  },
  {
   "cell_type": "markdown",
   "metadata": {},
   "source": [
    "**Mean Absolute Error is about 23,314.53. R-squared Error is about 0.6519. Compared to the inital model, this model is less accurate, albeit by very little. We will attempt to improve the model more.**"
   ]
  },
  {
   "cell_type": "markdown",
   "metadata": {},
   "source": [
    "## Attempt to Improve Linear Regression Test 2"
   ]
  },
  {
   "cell_type": "markdown",
   "metadata": {},
   "source": [
    "Select features that all have a variance greater than 1.0 as opposed to just 0.5. We also remove some features we feel may have less importance than others."
   ]
  },
  {
   "cell_type": "code",
   "execution_count": 665,
   "metadata": {},
   "outputs": [],
   "source": [
    "train_feats2 = train_df[['MSSubClass','LotArea',\n",
    "                       'YearRemodAdd',\n",
    "                       'BsmtExposure',\n",
    "                        'TotalBsmtSF','LowQualFinSF',\n",
    "                        'GrLivArea',\n",
    "                        'TotRmsAbvGrd',\n",
    "                        'FireplaceQu', 'GarageArea',\n",
    "                        'PoolArea','Fence','MiscVal','TotalFloorSqFt',\n",
    "                        'TotalPorchDeckSqFt']]\n"
   ]
  },
  {
   "cell_type": "markdown",
   "metadata": {},
   "source": [
    "### Standardize Features with StandardScaler"
   ]
  },
  {
   "cell_type": "code",
   "execution_count": 666,
   "metadata": {},
   "outputs": [
    {
     "data": {
      "text/html": [
       "<div>\n",
       "<style scoped>\n",
       "    .dataframe tbody tr th:only-of-type {\n",
       "        vertical-align: middle;\n",
       "    }\n",
       "\n",
       "    .dataframe tbody tr th {\n",
       "        vertical-align: top;\n",
       "    }\n",
       "\n",
       "    .dataframe thead th {\n",
       "        text-align: right;\n",
       "    }\n",
       "</style>\n",
       "<table border=\"1\" class=\"dataframe\">\n",
       "  <thead>\n",
       "    <tr style=\"text-align: right;\">\n",
       "      <th></th>\n",
       "      <th>MSSubClass</th>\n",
       "      <th>LotArea</th>\n",
       "      <th>YearRemodAdd</th>\n",
       "      <th>BsmtExposure</th>\n",
       "      <th>TotalBsmtSF</th>\n",
       "      <th>LowQualFinSF</th>\n",
       "      <th>GrLivArea</th>\n",
       "      <th>TotRmsAbvGrd</th>\n",
       "      <th>FireplaceQu</th>\n",
       "      <th>GarageArea</th>\n",
       "      <th>PoolArea</th>\n",
       "      <th>Fence</th>\n",
       "      <th>MiscVal</th>\n",
       "      <th>TotalFloorSqFt</th>\n",
       "      <th>TotalPorchDeckSqFt</th>\n",
       "    </tr>\n",
       "  </thead>\n",
       "  <tbody>\n",
       "    <tr>\n",
       "      <th>0</th>\n",
       "      <td>0.07</td>\n",
       "      <td>-0.21</td>\n",
       "      <td>0.88</td>\n",
       "      <td>-0.59</td>\n",
       "      <td>-0.46</td>\n",
       "      <td>-0.12</td>\n",
       "      <td>0.37</td>\n",
       "      <td>0.91</td>\n",
       "      <td>-1.01</td>\n",
       "      <td>0.35</td>\n",
       "      <td>-0.07</td>\n",
       "      <td>-0.47</td>\n",
       "      <td>-0.09</td>\n",
       "      <td>0.38</td>\n",
       "      <td>-0.77</td>\n",
       "    </tr>\n",
       "    <tr>\n",
       "      <th>1</th>\n",
       "      <td>-0.87</td>\n",
       "      <td>-0.09</td>\n",
       "      <td>-0.43</td>\n",
       "      <td>2.22</td>\n",
       "      <td>0.47</td>\n",
       "      <td>-0.12</td>\n",
       "      <td>-0.48</td>\n",
       "      <td>-0.32</td>\n",
       "      <td>0.65</td>\n",
       "      <td>-0.06</td>\n",
       "      <td>-0.07</td>\n",
       "      <td>-0.47</td>\n",
       "      <td>-0.09</td>\n",
       "      <td>-0.48</td>\n",
       "      <td>0.75</td>\n",
       "    </tr>\n",
       "    <tr>\n",
       "      <th>2</th>\n",
       "      <td>0.07</td>\n",
       "      <td>0.07</td>\n",
       "      <td>0.83</td>\n",
       "      <td>0.35</td>\n",
       "      <td>-0.31</td>\n",
       "      <td>-0.12</td>\n",
       "      <td>0.52</td>\n",
       "      <td>-0.32</td>\n",
       "      <td>0.65</td>\n",
       "      <td>0.63</td>\n",
       "      <td>-0.07</td>\n",
       "      <td>-0.47</td>\n",
       "      <td>-0.09</td>\n",
       "      <td>0.53</td>\n",
       "      <td>-0.89</td>\n",
       "    </tr>\n",
       "    <tr>\n",
       "      <th>3</th>\n",
       "      <td>0.31</td>\n",
       "      <td>-0.10</td>\n",
       "      <td>-0.72</td>\n",
       "      <td>-0.59</td>\n",
       "      <td>-0.69</td>\n",
       "      <td>-0.12</td>\n",
       "      <td>0.38</td>\n",
       "      <td>0.30</td>\n",
       "      <td>1.20</td>\n",
       "      <td>0.79</td>\n",
       "      <td>-0.07</td>\n",
       "      <td>-0.47</td>\n",
       "      <td>-0.09</td>\n",
       "      <td>0.40</td>\n",
       "      <td>0.80</td>\n",
       "    </tr>\n",
       "    <tr>\n",
       "      <th>4</th>\n",
       "      <td>0.07</td>\n",
       "      <td>0.38</td>\n",
       "      <td>0.73</td>\n",
       "      <td>1.28</td>\n",
       "      <td>0.20</td>\n",
       "      <td>-0.12</td>\n",
       "      <td>1.30</td>\n",
       "      <td>1.53</td>\n",
       "      <td>0.65</td>\n",
       "      <td>1.70</td>\n",
       "      <td>-0.07</td>\n",
       "      <td>-0.47</td>\n",
       "      <td>-0.09</td>\n",
       "      <td>1.32</td>\n",
       "      <td>0.60</td>\n",
       "    </tr>\n",
       "  </tbody>\n",
       "</table>\n",
       "</div>"
      ],
      "text/plain": [
       "   MSSubClass  LotArea  YearRemodAdd  BsmtExposure  TotalBsmtSF  LowQualFinSF  \\\n",
       "0        0.07    -0.21          0.88         -0.59        -0.46         -0.12   \n",
       "1       -0.87    -0.09         -0.43          2.22         0.47         -0.12   \n",
       "2        0.07     0.07          0.83          0.35        -0.31         -0.12   \n",
       "3        0.31    -0.10         -0.72         -0.59        -0.69         -0.12   \n",
       "4        0.07     0.38          0.73          1.28         0.20         -0.12   \n",
       "\n",
       "   GrLivArea  TotRmsAbvGrd  FireplaceQu  GarageArea  PoolArea  Fence  MiscVal  \\\n",
       "0       0.37          0.91        -1.01        0.35     -0.07  -0.47    -0.09   \n",
       "1      -0.48         -0.32         0.65       -0.06     -0.07  -0.47    -0.09   \n",
       "2       0.52         -0.32         0.65        0.63     -0.07  -0.47    -0.09   \n",
       "3       0.38          0.30         1.20        0.79     -0.07  -0.47    -0.09   \n",
       "4       1.30          1.53         0.65        1.70     -0.07  -0.47    -0.09   \n",
       "\n",
       "   TotalFloorSqFt  TotalPorchDeckSqFt  \n",
       "0            0.38               -0.77  \n",
       "1           -0.48                0.75  \n",
       "2            0.53               -0.89  \n",
       "3            0.40                0.80  \n",
       "4            1.32                0.60  "
      ]
     },
     "execution_count": 666,
     "metadata": {},
     "output_type": "execute_result"
    }
   ],
   "source": [
    "scaler = StandardScaler()\n",
    "scaler.fit(train_feats2)\n",
    "x_scale = scaler.transform(train_feats2)\n",
    "data_scale = pd.DataFrame(x_scale, columns=train_feats2.columns)\n",
    "data_scale.head(5)"
   ]
  },
  {
   "cell_type": "markdown",
   "metadata": {},
   "source": [
    "### Implement PCA as an Additional Dimensionality Reduction Technique"
   ]
  },
  {
   "cell_type": "code",
   "execution_count": 667,
   "metadata": {},
   "outputs": [
    {
     "data": {
      "text/html": [
       "<div>\n",
       "<style scoped>\n",
       "    .dataframe tbody tr th:only-of-type {\n",
       "        vertical-align: middle;\n",
       "    }\n",
       "\n",
       "    .dataframe tbody tr th {\n",
       "        vertical-align: top;\n",
       "    }\n",
       "\n",
       "    .dataframe thead th {\n",
       "        text-align: right;\n",
       "    }\n",
       "</style>\n",
       "<table border=\"1\" class=\"dataframe\">\n",
       "  <thead>\n",
       "    <tr style=\"text-align: right;\">\n",
       "      <th></th>\n",
       "      <th>0</th>\n",
       "      <th>1</th>\n",
       "      <th>2</th>\n",
       "      <th>3</th>\n",
       "      <th>4</th>\n",
       "      <th>5</th>\n",
       "      <th>6</th>\n",
       "      <th>7</th>\n",
       "      <th>8</th>\n",
       "      <th>9</th>\n",
       "      <th>10</th>\n",
       "      <th>11</th>\n",
       "      <th>12</th>\n",
       "      <th>13</th>\n",
       "      <th>14</th>\n",
       "    </tr>\n",
       "  </thead>\n",
       "  <tbody>\n",
       "    <tr>\n",
       "      <th>0</th>\n",
       "      <td>0.22</td>\n",
       "      <td>0.63</td>\n",
       "      <td>-1.05</td>\n",
       "      <td>-0.39</td>\n",
       "      <td>0.07</td>\n",
       "      <td>-0.47</td>\n",
       "      <td>0.51</td>\n",
       "      <td>0.81</td>\n",
       "      <td>0.86</td>\n",
       "      <td>0.85</td>\n",
       "      <td>0.03</td>\n",
       "      <td>-0.13</td>\n",
       "      <td>-0.34</td>\n",
       "      <td>-0.21</td>\n",
       "      <td>0.00</td>\n",
       "    </tr>\n",
       "    <tr>\n",
       "      <th>1</th>\n",
       "      <td>0.26</td>\n",
       "      <td>-1.84</td>\n",
       "      <td>0.56</td>\n",
       "      <td>0.44</td>\n",
       "      <td>-0.10</td>\n",
       "      <td>0.80</td>\n",
       "      <td>-0.09</td>\n",
       "      <td>-0.59</td>\n",
       "      <td>-0.68</td>\n",
       "      <td>-0.78</td>\n",
       "      <td>-0.77</td>\n",
       "      <td>-0.64</td>\n",
       "      <td>-0.91</td>\n",
       "      <td>-0.17</td>\n",
       "      <td>-0.00</td>\n",
       "    </tr>\n",
       "    <tr>\n",
       "      <th>2</th>\n",
       "      <td>0.68</td>\n",
       "      <td>-0.37</td>\n",
       "      <td>-0.89</td>\n",
       "      <td>-0.04</td>\n",
       "      <td>0.05</td>\n",
       "      <td>-0.10</td>\n",
       "      <td>0.18</td>\n",
       "      <td>0.46</td>\n",
       "      <td>0.36</td>\n",
       "      <td>-0.52</td>\n",
       "      <td>0.78</td>\n",
       "      <td>0.13</td>\n",
       "      <td>-0.48</td>\n",
       "      <td>0.72</td>\n",
       "      <td>0.00</td>\n",
       "    </tr>\n",
       "    <tr>\n",
       "      <th>3</th>\n",
       "      <td>0.79</td>\n",
       "      <td>0.65</td>\n",
       "      <td>-0.36</td>\n",
       "      <td>-0.41</td>\n",
       "      <td>-0.07</td>\n",
       "      <td>-0.12</td>\n",
       "      <td>-0.79</td>\n",
       "      <td>-0.37</td>\n",
       "      <td>-1.12</td>\n",
       "      <td>-0.25</td>\n",
       "      <td>0.11</td>\n",
       "      <td>1.04</td>\n",
       "      <td>-0.53</td>\n",
       "      <td>0.02</td>\n",
       "      <td>0.00</td>\n",
       "    </tr>\n",
       "    <tr>\n",
       "      <th>4</th>\n",
       "      <td>3.12</td>\n",
       "      <td>-0.26</td>\n",
       "      <td>-0.67</td>\n",
       "      <td>0.17</td>\n",
       "      <td>0.08</td>\n",
       "      <td>0.09</td>\n",
       "      <td>-0.05</td>\n",
       "      <td>-0.12</td>\n",
       "      <td>0.48</td>\n",
       "      <td>0.05</td>\n",
       "      <td>-0.30</td>\n",
       "      <td>0.34</td>\n",
       "      <td>-1.12</td>\n",
       "      <td>-0.18</td>\n",
       "      <td>0.00</td>\n",
       "    </tr>\n",
       "  </tbody>\n",
       "</table>\n",
       "</div>"
      ],
      "text/plain": [
       "    0     1     2     3     4     5     6     7     8     9     10    11  \\\n",
       "0 0.22  0.63 -1.05 -0.39  0.07 -0.47  0.51  0.81  0.86  0.85  0.03 -0.13   \n",
       "1 0.26 -1.84  0.56  0.44 -0.10  0.80 -0.09 -0.59 -0.68 -0.78 -0.77 -0.64   \n",
       "2 0.68 -0.37 -0.89 -0.04  0.05 -0.10  0.18  0.46  0.36 -0.52  0.78  0.13   \n",
       "3 0.79  0.65 -0.36 -0.41 -0.07 -0.12 -0.79 -0.37 -1.12 -0.25  0.11  1.04   \n",
       "4 3.12 -0.26 -0.67  0.17  0.08  0.09 -0.05 -0.12  0.48  0.05 -0.30  0.34   \n",
       "\n",
       "     12    13    14  \n",
       "0 -0.34 -0.21  0.00  \n",
       "1 -0.91 -0.17 -0.00  \n",
       "2 -0.48  0.72  0.00  \n",
       "3 -0.53  0.02  0.00  \n",
       "4 -1.12 -0.18  0.00  "
      ]
     },
     "execution_count": 667,
     "metadata": {},
     "output_type": "execute_result"
    }
   ],
   "source": [
    "pca = PCA()\n",
    "x_pca = pca.fit_transform(data_scale)\n",
    "x_pca = pd.DataFrame(x_pca)\n",
    "x_pca.head()"
   ]
  },
  {
   "cell_type": "code",
   "execution_count": 668,
   "metadata": {},
   "outputs": [
    {
     "data": {
      "text/plain": [
       "array([2.82089975e-01, 1.01853043e-01, 8.66345537e-02, 7.09505306e-02,\n",
       "       6.69158955e-02, 6.49601188e-02, 5.96237673e-02, 5.60029910e-02,\n",
       "       4.84890364e-02, 4.51343165e-02, 4.15048929e-02, 3.55921349e-02,\n",
       "       2.78544589e-02, 1.23942860e-02, 7.93714602e-33])"
      ]
     },
     "execution_count": 668,
     "metadata": {},
     "output_type": "execute_result"
    }
   ],
   "source": [
    "explained_variance = pca.explained_variance_ratio_\n",
    "explained_variance"
   ]
  },
  {
   "cell_type": "code",
   "execution_count": 669,
   "metadata": {},
   "outputs": [
    {
     "data": {
      "text/plain": [
       "array([0.28208997, 0.38394302, 0.47057757, 0.5415281 , 0.608444  ,\n",
       "       0.67340412, 0.73302788, 0.78903087, 0.83751991, 0.88265423,\n",
       "       0.92415912, 0.95975126, 0.98760571, 1.        , 1.        ])"
      ]
     },
     "execution_count": 669,
     "metadata": {},
     "output_type": "execute_result"
    }
   ],
   "source": [
    "np.cumsum(pca.explained_variance_ratio_)"
   ]
  },
  {
   "cell_type": "code",
   "execution_count": 670,
   "metadata": {
    "scrolled": true
   },
   "outputs": [
    {
     "data": {
      "image/png": "[encoded data removed]",
      "text/plain": [
       "<Figure size 432x288 with 1 Axes>"
      ]
     },
     "metadata": {
      "needs_background": "light"
     },
     "output_type": "display_data"
    }
   ],
   "source": [
    "plt.plot(np.arange(15), np.cumsum(pca.explained_variance_ratio_),color='#9c1111')\n",
    "plt.xlabel('number of components')\n",
    "plt.ylabel('cumulative explained variance');\n",
    "plt.grid(which='major', linestyle='-', linewidth='0.5', color='black')"
   ]
  },
  {
   "cell_type": "code",
   "execution_count": 671,
   "metadata": {},
   "outputs": [],
   "source": [
    "train_feats2 = train_df[['MSSubClass','LotArea',\n",
    "                       'YearRemodAdd',\n",
    "                       'BsmtExposure',\n",
    "                        'TotalBsmtSF','LowQualFinSF',\n",
    "                        'GrLivArea',\n",
    "                        'TotRmsAbvGrd',\n",
    "                        'FireplaceQu', 'GarageArea']]"
   ]
  },
  {
   "cell_type": "code",
   "execution_count": 672,
   "metadata": {},
   "outputs": [],
   "source": [
    "C = train_feats2[['MSSubClass','LotArea',\n",
    "                       'YearRemodAdd',\n",
    "                       'BsmtExposure',\n",
    "                        'TotalBsmtSF','LowQualFinSF',\n",
    "                        'GrLivArea',\n",
    "                        'TotRmsAbvGrd',\n",
    "                        'FireplaceQu', 'GarageArea']].values\n",
    "d = train_df['SalePrice'].values"
   ]
  },
  {
   "cell_type": "code",
   "execution_count": 673,
   "metadata": {},
   "outputs": [],
   "source": [
    "C_train, C_test, d_train, d_test = train_test_split(C, d, test_size=0.2, random_state=0)"
   ]
  },
  {
   "cell_type": "code",
   "execution_count": 674,
   "metadata": {},
   "outputs": [
    {
     "data": {
      "text/plain": [
       "LinearRegression()"
      ]
     },
     "execution_count": 674,
     "metadata": {},
     "output_type": "execute_result"
    }
   ],
   "source": [
    "regressor = LinearRegression()  \n",
    "regressor.fit(C_train, d_train)"
   ]
  },
  {
   "cell_type": "code",
   "execution_count": 675,
   "metadata": {},
   "outputs": [],
   "source": [
    "d_pred = regressor.predict(C_test)"
   ]
  },
  {
   "cell_type": "code",
   "execution_count": 676,
   "metadata": {},
   "outputs": [
    {
     "data": {
      "text/html": [
       "<div>\n",
       "<style scoped>\n",
       "    .dataframe tbody tr th:only-of-type {\n",
       "        vertical-align: middle;\n",
       "    }\n",
       "\n",
       "    .dataframe tbody tr th {\n",
       "        vertical-align: top;\n",
       "    }\n",
       "\n",
       "    .dataframe thead th {\n",
       "        text-align: right;\n",
       "    }\n",
       "</style>\n",
       "<table border=\"1\" class=\"dataframe\">\n",
       "  <thead>\n",
       "    <tr style=\"text-align: right;\">\n",
       "      <th></th>\n",
       "      <th>Actual</th>\n",
       "      <th>Predicted</th>\n",
       "    </tr>\n",
       "  </thead>\n",
       "  <tbody>\n",
       "    <tr>\n",
       "      <th>0</th>\n",
       "      <td>200624</td>\n",
       "      <td>285,218.43</td>\n",
       "    </tr>\n",
       "    <tr>\n",
       "      <th>1</th>\n",
       "      <td>133000</td>\n",
       "      <td>135,027.64</td>\n",
       "    </tr>\n",
       "    <tr>\n",
       "      <th>2</th>\n",
       "      <td>110000</td>\n",
       "      <td>112,729.02</td>\n",
       "    </tr>\n",
       "    <tr>\n",
       "      <th>3</th>\n",
       "      <td>192000</td>\n",
       "      <td>213,501.92</td>\n",
       "    </tr>\n",
       "    <tr>\n",
       "      <th>4</th>\n",
       "      <td>88000</td>\n",
       "      <td>78,254.29</td>\n",
       "    </tr>\n",
       "    <tr>\n",
       "      <th>5</th>\n",
       "      <td>85000</td>\n",
       "      <td>141,072.07</td>\n",
       "    </tr>\n",
       "    <tr>\n",
       "      <th>6</th>\n",
       "      <td>282922</td>\n",
       "      <td>248,969.79</td>\n",
       "    </tr>\n",
       "    <tr>\n",
       "      <th>7</th>\n",
       "      <td>141000</td>\n",
       "      <td>144,450.80</td>\n",
       "    </tr>\n",
       "    <tr>\n",
       "      <th>8</th>\n",
       "      <td>745000</td>\n",
       "      <td>481,603.85</td>\n",
       "    </tr>\n",
       "    <tr>\n",
       "      <th>9</th>\n",
       "      <td>148800</td>\n",
       "      <td>125,124.48</td>\n",
       "    </tr>\n",
       "    <tr>\n",
       "      <th>10</th>\n",
       "      <td>208900</td>\n",
       "      <td>197,571.45</td>\n",
       "    </tr>\n",
       "    <tr>\n",
       "      <th>11</th>\n",
       "      <td>136905</td>\n",
       "      <td>191,714.22</td>\n",
       "    </tr>\n",
       "    <tr>\n",
       "      <th>12</th>\n",
       "      <td>225000</td>\n",
       "      <td>219,470.21</td>\n",
       "    </tr>\n",
       "    <tr>\n",
       "      <th>13</th>\n",
       "      <td>123000</td>\n",
       "      <td>109,365.32</td>\n",
       "    </tr>\n",
       "    <tr>\n",
       "      <th>14</th>\n",
       "      <td>119200</td>\n",
       "      <td>120,404.69</td>\n",
       "    </tr>\n",
       "  </tbody>\n",
       "</table>\n",
       "</div>"
      ],
      "text/plain": [
       "    Actual  Predicted\n",
       "0   200624 285,218.43\n",
       "1   133000 135,027.64\n",
       "2   110000 112,729.02\n",
       "3   192000 213,501.92\n",
       "4    88000  78,254.29\n",
       "5    85000 141,072.07\n",
       "6   282922 248,969.79\n",
       "7   141000 144,450.80\n",
       "8   745000 481,603.85\n",
       "9   148800 125,124.48\n",
       "10  208900 197,571.45\n",
       "11  136905 191,714.22\n",
       "12  225000 219,470.21\n",
       "13  123000 109,365.32\n",
       "14  119200 120,404.69"
      ]
     },
     "execution_count": 676,
     "metadata": {},
     "output_type": "execute_result"
    }
   ],
   "source": [
    "train_res2 = pd.DataFrame({'Actual': d_test.flatten(), 'Predicted': d_pred.flatten()})\n",
    "train_res2.head(15)"
   ]
  },
  {
   "cell_type": "code",
   "execution_count": 677,
   "metadata": {},
   "outputs": [
    {
     "data": {
      "image/png": "[encoded data removed]",
      "text/plain": [
       "<Figure size 432x432 with 1 Axes>"
      ]
     },
     "metadata": {
      "needs_background": "light"
     },
     "output_type": "display_data"
    }
   ],
   "source": [
    "train_res2 = train_res2.head(15)\n",
    "train_res2.plot(kind='bar',figsize=(6,6),color=['#fc3a7b','#42f5b6'])\n",
    "plt.grid(which='major', linestyle='-', linewidth='0.5', color='black')\n",
    "plt.show()"
   ]
  },
  {
   "cell_type": "code",
   "execution_count": 678,
   "metadata": {},
   "outputs": [
    {
     "name": "stdout",
     "output_type": "stream",
     "text": [
      "Mean Absolute Error: 27868.338811908703\n",
      "R-squared Error: 0.5971859351408314\n"
     ]
    }
   ],
   "source": [
    "print('Mean Absolute Error:', metrics.mean_absolute_error(d_test, d_pred))  \n",
    "print('R-squared Error:', metrics.r2_score(d_test, d_pred))"
   ]
  },
  {
   "cell_type": "markdown",
   "metadata": {},
   "source": [
    "**After another attempt, we unfortunately find that the model is worse than originally used, particularly with an increased Mean Absolute Error value and decreased R-squared error.**"
   ]
  },
  {
   "cell_type": "markdown",
   "metadata": {},
   "source": [
    "## Attempt to Improve Linear Regression Test 3"
   ]
  },
  {
   "cell_type": "code",
   "execution_count": 679,
   "metadata": {},
   "outputs": [],
   "source": [
    "E = train_df[['MSSubClass','LotArea','Utilities','OverallRating',\n",
    "                       'YearBuilt','ExterOverall','BsmtQual','BsmtCond',\n",
    "                       'BsmtExposure','TotalBsmtSF','HeatingQC','CentralAir',\n",
    "                        'TotalFloorSqFt','GrLivArea','KitchenQual','TotRmsAbvGrd',\n",
    "                        'Functional','Fireplaces','FireplaceQu','GarageCars',\n",
    "                        'GarageOverall','PavedDrive','TotalPorchDeckSqFt']].values\n",
    "f = train_df['SalePrice'].values"
   ]
  },
  {
   "cell_type": "code",
   "execution_count": 680,
   "metadata": {},
   "outputs": [],
   "source": [
    "E_train, E_test, f_train, f_test = train_test_split(E, f, test_size=0.2, random_state=0)"
   ]
  },
  {
   "cell_type": "code",
   "execution_count": 681,
   "metadata": {},
   "outputs": [
    {
     "data": {
      "text/plain": [
       "LinearRegression()"
      ]
     },
     "execution_count": 681,
     "metadata": {},
     "output_type": "execute_result"
    }
   ],
   "source": [
    "regressor.fit(E_train, f_train)\n"
   ]
  },
  {
   "cell_type": "code",
   "execution_count": 682,
   "metadata": {},
   "outputs": [
    {
     "data": {
      "text/html": [
       "<div>\n",
       "<style scoped>\n",
       "    .dataframe tbody tr th:only-of-type {\n",
       "        vertical-align: middle;\n",
       "    }\n",
       "\n",
       "    .dataframe tbody tr th {\n",
       "        vertical-align: top;\n",
       "    }\n",
       "\n",
       "    .dataframe thead th {\n",
       "        text-align: right;\n",
       "    }\n",
       "</style>\n",
       "<table border=\"1\" class=\"dataframe\">\n",
       "  <thead>\n",
       "    <tr style=\"text-align: right;\">\n",
       "      <th></th>\n",
       "      <th>Actual</th>\n",
       "      <th>Predicted</th>\n",
       "    </tr>\n",
       "  </thead>\n",
       "  <tbody>\n",
       "    <tr>\n",
       "      <th>0</th>\n",
       "      <td>200624</td>\n",
       "      <td>232,685.13</td>\n",
       "    </tr>\n",
       "    <tr>\n",
       "      <th>1</th>\n",
       "      <td>133000</td>\n",
       "      <td>145,814.13</td>\n",
       "    </tr>\n",
       "    <tr>\n",
       "      <th>2</th>\n",
       "      <td>110000</td>\n",
       "      <td>110,370.98</td>\n",
       "    </tr>\n",
       "    <tr>\n",
       "      <th>3</th>\n",
       "      <td>192000</td>\n",
       "      <td>217,180.12</td>\n",
       "    </tr>\n",
       "    <tr>\n",
       "      <th>4</th>\n",
       "      <td>88000</td>\n",
       "      <td>81,228.14</td>\n",
       "    </tr>\n",
       "    <tr>\n",
       "      <th>5</th>\n",
       "      <td>85000</td>\n",
       "      <td>60,434.90</td>\n",
       "    </tr>\n",
       "    <tr>\n",
       "      <th>6</th>\n",
       "      <td>282922</td>\n",
       "      <td>260,743.24</td>\n",
       "    </tr>\n",
       "    <tr>\n",
       "      <th>7</th>\n",
       "      <td>141000</td>\n",
       "      <td>149,101.50</td>\n",
       "    </tr>\n",
       "    <tr>\n",
       "      <th>8</th>\n",
       "      <td>745000</td>\n",
       "      <td>495,205.31</td>\n",
       "    </tr>\n",
       "    <tr>\n",
       "      <th>9</th>\n",
       "      <td>148800</td>\n",
       "      <td>146,731.16</td>\n",
       "    </tr>\n",
       "    <tr>\n",
       "      <th>10</th>\n",
       "      <td>208900</td>\n",
       "      <td>196,039.31</td>\n",
       "    </tr>\n",
       "    <tr>\n",
       "      <th>11</th>\n",
       "      <td>136905</td>\n",
       "      <td>173,376.76</td>\n",
       "    </tr>\n",
       "    <tr>\n",
       "      <th>12</th>\n",
       "      <td>225000</td>\n",
       "      <td>231,282.77</td>\n",
       "    </tr>\n",
       "    <tr>\n",
       "      <th>13</th>\n",
       "      <td>123000</td>\n",
       "      <td>106,357.62</td>\n",
       "    </tr>\n",
       "    <tr>\n",
       "      <th>14</th>\n",
       "      <td>119200</td>\n",
       "      <td>139,090.76</td>\n",
       "    </tr>\n",
       "  </tbody>\n",
       "</table>\n",
       "</div>"
      ],
      "text/plain": [
       "    Actual  Predicted\n",
       "0   200624 232,685.13\n",
       "1   133000 145,814.13\n",
       "2   110000 110,370.98\n",
       "3   192000 217,180.12\n",
       "4    88000  81,228.14\n",
       "5    85000  60,434.90\n",
       "6   282922 260,743.24\n",
       "7   141000 149,101.50\n",
       "8   745000 495,205.31\n",
       "9   148800 146,731.16\n",
       "10  208900 196,039.31\n",
       "11  136905 173,376.76\n",
       "12  225000 231,282.77\n",
       "13  123000 106,357.62\n",
       "14  119200 139,090.76"
      ]
     },
     "execution_count": 682,
     "metadata": {},
     "output_type": "execute_result"
    }
   ],
   "source": [
    "f_pred = regressor.predict(E_test)\n",
    "train_res3 = pd.DataFrame({'Actual': f_test.flatten(), 'Predicted': f_pred.flatten()})\n",
    "train_res3.head(15)"
   ]
  },
  {
   "cell_type": "code",
   "execution_count": 683,
   "metadata": {},
   "outputs": [
    {
     "data": {
      "image/png": "[encoded data removed]",
      "text/plain": [
       "<Figure size 432x432 with 1 Axes>"
      ]
     },
     "metadata": {
      "needs_background": "light"
     },
     "output_type": "display_data"
    }
   ],
   "source": [
    "train_res3 = train_res3.head(15)\n",
    "train_res3.plot(kind='bar',figsize=(6,6),color=['#fc3a7b','#42f5b6'])\n",
    "plt.grid(which='major', linestyle='-', linewidth='0.5', color='black')\n",
    "plt.show()"
   ]
  },
  {
   "cell_type": "code",
   "execution_count": 684,
   "metadata": {},
   "outputs": [
    {
     "name": "stdout",
     "output_type": "stream",
     "text": [
      "Mean Absolute Error: 23605.79783977028\n",
      "R-squared Error: 0.6991839509902085\n"
     ]
    }
   ],
   "source": [
    "print('Mean Absolute Error:', metrics.mean_absolute_error(f_test, f_pred))  \n",
    "print('R-squared Error:', metrics.r2_score(f_test, f_pred))"
   ]
  },
  {
   "cell_type": "markdown",
   "metadata": {},
   "source": [
    "## Summary\n",
    "After playing around with different features, we found that we could best improve the original model with the features shown above. The r-squared error is higher than it was in the original model with 0.699, even though that means the model is still not accurate. It is possible that linear regression is not the best model for predicting the sale prices of houses in this dataset."
   ]
  }
 ],
 "metadata": {
  "kernelspec": {
   "display_name": "Python 3",
   "language": "python",
   "name": "python3"
  },
  "language_info": {
   "codemirror_mode": {
    "name": "ipython",
    "version": 3
   },
   "file_extension": ".py",
   "mimetype": "text/x-python",
   "name": "python",
   "nbconvert_exporter": "python",
   "pygments_lexer": "ipython3",
   "version": "3.8.5"
  }
 },
 "nbformat": 4,
 "nbformat_minor": 4
}
