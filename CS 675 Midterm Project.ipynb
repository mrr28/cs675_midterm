{
 "cells": [
  {
   "cell_type": "markdown",
   "metadata": {},
   "source": [
    "### Midterm project - Kaggle exercise project\n",
    "\n",
    "https://www.kaggle.com/c/house-prices-advanced-regression-techniques\n",
    "\n",
    "Goals\n",
    "\n",
    "* Get familar with Kaggle competition since our final project may be a real Kaggle competition.\n",
    "* Practice on large data set\n",
    "* Data quality checking, missing data imputation\n",
    "* Feature selection. What's your rationals to choose those features.\n",
    "* Create at least 5 new features and explain your reason for every new features.\n",
    "* Use feature importance to help you choose 10 features\n",
    "* Choose 3 ML algorithms we covered in the class to build your prediction models\n",
    "* For each model you build, you will need to evaluate and show your effort to improve it.\n",
    "* Your jupyter submission should be in an article quality. Do NOT print huge data set in the notebook. Use head(). Use plotting to visualize your analysis and results. Use markdown to write your comments.\n",
    "* Your score is based on completeness on every step.\n",
    "* Submit in HTML and ipynb format on canvas"
   ]
  },
  {
   "cell_type": "markdown",
   "metadata": {},
   "source": [
    "## Project Notes\n",
    "\n",
    "* Clean up dataset\n",
    "* Use dimensionality reduction techniques on dataset (everyone can implement one technique on the dataset and discuss what we find)\n",
    "* Discuss w/ group on feature selection, feature creation\n",
    "* Each one of us will choose and build a prediction model\n",
    "* Attempt to improve model at least once or twice\n",
    "\n",
    "### Dimensionality Reduction Techniques\n",
    "* Variance Check\n",
    "* Correlation Check\n",
    "* Decision Tree (Random Forest) Feature Importance\n",
    "* PCA\n",
    "* Kernel PCA\n",
    "\n",
    "### ML Algorithms\n",
    "* Linear Regression\n",
    "* Logistic Regression\n",
    "* KNN (k-nearest neighbors)\n",
    "* Naive Bayes Classifier\n",
    "* Decision Trees\n",
    "* SVM (support vector machines)"
   ]
  },
  {
   "cell_type": "code",
   "execution_count": 1,
   "metadata": {},
   "outputs": [],
   "source": [
    "## Import Packages\n",
    "import pandas as pd\n",
    "import matplotlib.pyplot as plt\n",
    "import numpy as np\n",
    "import csv\n",
    "import seaborn as sns\n",
    "import graphviz\n",
    "from sklearn import metrics\n",
    "from sklearn import neighbors, preprocessing, model_selection\n",
    "from sklearn.linear_model import LogisticRegression\n",
    "from sklearn.model_selection import train_test_split\n",
    "from sklearn.neighbors import KNeighborsClassifier\n",
    "from sklearn.naive_bayes import GaussianNB\n",
    "from sklearn.metrics import accuracy_score\n",
    "from sklearn import preprocessing\n",
    "from sklearn.preprocessing import StandardScaler\n",
    "from sklearn.metrics import classification_report\n",
    "import plotly.express as px\n",
    "from sklearn.metrics import roc_curve, auc\n",
    "from sklearn.linear_model import LinearRegression\n",
    "from sklearn.metrics import confusion_matrix  \n",
    "from sklearn.naive_bayes import GaussianNB\n",
    "from sklearn.tree import DecisionTreeClassifier, export_graphviz\n",
    "from sklearn.preprocessing import OneHotEncoder\n",
    "from sklearn.preprocessing import LabelEncoder\n",
    "from sklearn.tree import DecisionTreeRegressor\n",
    "from sklearn import datasets\n",
    "from sklearn import svm\n",
    "from sklearn.svm import SVC\n",
    "from sklearn.svm import SVR\n",
    "from sklearn.ensemble import RandomForestRegressor\n",
    "from sklearn.decomposition import PCA\n",
    "from sklearn.datasets import make_moons \n",
    "from sklearn.decomposition import KernelPCA \n"
   ]
  },
  {
   "cell_type": "code",
   "execution_count": null,
   "metadata": {},
   "outputs": [],
   "source": [
    "df_"
   ]
  }
 ],
 "metadata": {
  "kernelspec": {
   "display_name": "Python 3",
   "language": "python",
   "name": "python3"
  },
  "language_info": {
   "codemirror_mode": {
    "name": "ipython",
    "version": 3
   },
   "file_extension": ".py",
   "mimetype": "text/x-python",
   "name": "python",
   "nbconvert_exporter": "python",
   "pygments_lexer": "ipython3",
   "version": "3.8.5"
  }
 },
 "nbformat": 4,
 "nbformat_minor": 4
}
